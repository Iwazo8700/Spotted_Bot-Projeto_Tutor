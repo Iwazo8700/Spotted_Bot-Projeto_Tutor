{
  "nbformat": 4,
  "nbformat_minor": 0,
  "metadata": {
    "kernelspec": {
      "display_name": "Python 3",
      "language": "python",
      "name": "python3"
    },
    "language_info": {
      "codemirror_mode": {
        "name": "ipython",
        "version": 3
      },
      "file_extension": ".py",
      "mimetype": "text/x-python",
      "name": "python",
      "nbconvert_exporter": "python",
      "pygments_lexer": "ipython3",
      "version": "3.7.4"
    },
    "colab": {
      "name": "Spotted.ipynb",
      "provenance": [],
      "collapsed_sections": []
    }
  },
  "cells": [
    {
      "cell_type": "code",
      "metadata": {
        "id": "e11ibL_LeFNV",
        "colab_type": "code",
        "colab": {}
      },
      "source": [
        "from requests import get\n",
        "from bs4 import BeautifulSoup"
      ],
      "execution_count": 0,
      "outputs": []
    },
    {
      "cell_type": "code",
      "metadata": {
        "id": "7dYmBBv3eFNp",
        "colab_type": "code",
        "outputId": "e49586ed-cc6d-4e17-e692-e4cdbf04036b",
        "colab": {
          "base_uri": "https://localhost:8080/",
          "height": 54
        }
      },
      "source": [
        "spotted_link = lambda i: \"https://spottedsunicamp.herokuapp.com/spotted/list_spotteds/?page=%d\"%i\n",
        "\n",
        "get_site = get(spotted_link(1))\n",
        "get_site.text\n"
      ],
      "execution_count": 86,
      "outputs": [
        {
          "output_type": "execute_result",
          "data": {
            "text/plain": [
              "'<!doctype html>\\n<html>\\n\\n<head>\\n\\n\\t<!-- Load project\\'s staticfiles -->\\n\\t\\n\\t\\n\\t<!-- facebook meta tags -->\\n\\t<meta property=\"fb:app_id\"          content=\"1204077889712577\" />\\n\\t<meta property=\"og:type\"            content=\"website\" />\\n\\t<meta property=\"og:url\"             content=\"https://spottedsunicamp.herokuapp.com/\" />\\n\\t<meta property=\"og:title\"           content=\"Spotted Unicamp\" />\\n\\t<meta property=\"og:image\"           content=\"https://spottedsunicamp.herokuapp.com/static/main/img/logo.2f24221441b7.png\" />\\n\\t<meta property=\"og:description\"    content=\"Because true love dies. Faça seu primeiro login para se registrar em nosso sistema e ser marcado em spotteds.\" />\\n\\n\\t<meta charset=\"utf-8\">\\n\\t<meta http-equiv=\"X-UA-Compatible\" content=\"IE=edge\">\\n\\t<meta name=\"viewport\" content=\"width=device-width, initial-scale=1.0, maximum-scale=1.0\">\\n\\t<meta name=\"description\" content=\"Because true love never dies\">\\n\\t<link rel=\"icon\" href=\"/static/main/img/favicon.7f26403ba2a0.png\">\\n\\n\\t<title>Spotted Unicamp</title>\\n\\n\\t<!-- jQuery -->\\n\\t<script\\n\\tsrc=\"https://code.jquery.com/jquery-3.1.1.min.js\"\\n\\tintegrity=\"sha256-hVVnYaiADRTO2PzUGmuLJr8BLUSjGIZsDYGmIJLv2b8=\"\\n\\tcrossorigin=\"anonymous\"></script>\\n\\t<script src=\"https://cdnjs.cloudflare.com/ajax/libs/jquery-cookie/1.4.1/jquery.cookie.min.js\"></script>\\n\\n\\t<!-- jQuery Cookie -->\\n\\t<script src=\"https://cdn.jsdelivr.net/npm/js-cookie@2/src/js.cookie.min.js\"></script>\\n\\n\\t<!-- Semantic-UI JS -->\\n\\t<script src=\"https://cdnjs.cloudflare.com/ajax/libs/semantic-ui/2.2.7/semantic.js\"></script>\\n\\n\\t<!-- Semantic-UI CSS -->\\n\\t<link rel=\"stylesheet\" href=\"https://cdnjs.cloudflare.com/ajax/libs/semantic-ui/2.2.7/semantic.css\">\\n\\n\\t<!-- Material and Awesome Fonts and Icons -->\\n\\t<link href=\"https://fonts.googleapis.com/icon?family=Material+Icons\" rel=\"stylesheet\">\\n\\t<link href=\"//maxcdn.bootstrapcdn.com/font-awesome/4.1.0/css/font-awesome.min.css\" rel=\"stylesheet\">\\n\\n\\t<!-- Fonts -->\\n\\t<link href=\"https://fonts.googleapis.com/css?family=Open+Sans|Roboto\" rel=\"stylesheet\">\\n\\n\\n\\t<!-- Local scripts -->\\n\\t<script type=\"text/javascript\" src=\"/static/main/js/sidebar.7b3f1714ee76.js\"></script>\\n\\t<script type=\"text/javascript\">\\n\\t\\tfunction OnFbLogin() {\\n\\t\\t\\twindow.location.href = \"/auth/facebook/login/\";\\n\\t\\t}\\n\\t</script>\\n\\n\\t<!-- Local stylesheets -->\\n\\t<link rel=\"stylesheet\" type=\"text/css\" href=\"/static/main/css/menu.c3914fea0748.css\">\\n\\t<link rel=\"stylesheet\" type=\"text/css\" href=\"/static/main/css/responsive.ade785cbc49e.css\">\\n\\t<link rel=\"stylesheet\" type=\"text/css\" href=\"/static/main/css/colored_text.41ace7449b0f.css\">\\n\\n\\n\\t<!-- Page scripts -->\\n\\t\\n\\n\\t<!-- Page style -->\\n\\t\\n\\n\\t<!-- Google Analytics -->\\n\\t\\n\\n<script type=\"text/javascript\">\\n    var ga_id = \"UA-91650414-1\";\\n</script>\\n<script type=\"text/javascript\" src=\"/static/main/js/GA.9cb279b3a722.js\"></script>\\n\\n\\n\\n\\t<!-- Google Adsense -->\\n\\t\\n\\n\\n\\n</head>\\n\\n<body data-gr-c-s-loaded=\"true\" class=\"pushable\">\\n\\t<!-- Facebook SDK for nice login buttons -->\\n\\t\\n<div id=\"fb-root\"></div>\\n<script>(function(d, s, id) {\\n    var js, fjs = d.getElementsByTagName(s)[0];\\n    if (d.getElementById(id)) return;\\n    js = d.createElement(s); js.id = id;\\n    js.src = \\'https://connect.facebook.net/pt_BR/sdk.js#xfbml=1&version=v3.0&appId=1204077889712577&autoLogAppEvents=1\\';\\n    fjs.parentNode.insertBefore(js, fjs);\\n}(document, \\'script\\', \\'facebook-jssdk\\'));</script>\\n\\n\\n\\n\\t<!-- Sidebar Menu -->\\n\\t<div class=\"ui vertical inverted sidebar menu left\">\\n\\t\\t\\n\\t\\t<a href=\"/#submit\" class=\"right item\">Envie Spotteds</a>\\n\\t\\t<a href=\"/spotted/list_spotteds/\" class=\"item\">Explorar Spotteds</a>\\n\\t\\t<a href=\"/search/\" class=\"item\">Pegar contato</a>\\n\\t\\t<a href=\"/#report\" class=\"item\">Reportar</a>\\n\\t\\t\\n\\t</div>\\n\\n\\n\\t<!-- Page Contents -->\\n\\t<div class=\"pusher\">\\n\\n\\t\\t<!-- Menu -->\\n\\t\\t<div class=\"ui large blue secondary menu\">\\n\\t\\t\\t<div class=\"ui container\">\\n\\t\\t\\t\\t<a href=\"/\" class=\"toc item\">\\n\\t\\t\\t\\t\\t<img src=\"/static/main/img/logo.2f24221441b7.png\">\\n\\t\\t\\t\\t</a>\\n\\t\\t\\t\\t<a class=\"toc men right item\">\\n\\t\\t\\t\\t\\t<i class=\"sidebar big icon\"></i>\\n\\t\\t\\t\\t</a>\\n\\t\\t\\t\\t<a href=\"/\" class=\"item\">\\n\\t\\t\\t\\t\\t<img src=\"/static/main/img/logo.2f24221441b7.png\">\\n\\t\\t\\t\\t</a>\\n\\t\\t\\t\\t\\n\\t\\t\\t\\t<a href=\"/#submit\" class=\"right item\">Envie Spotteds</a>\\n\\t\\t\\t\\t<a href=\"/spotted/list_spotteds/\" class=\"item\">Explorar Spotteds</a>\\n\\t\\t\\t\\t<a href=\"/search/\" class=\"item\">Pegar contato</a>\\n\\t\\t\\t\\t<a href=\"/#report\" class=\"item\">Reportar</a>\\n\\n\\t\\t\\t\\t\\n\\t\\t\\t</div>\\n\\t\\t</div>\\n\\n\\t\\t<!-- Messages -->\\n\\n\\t\\t<div id=\"cookie_nag\" class=\"ui inline cookie nag\">\\n\\t\\t\\t<span id=\"cookie_nag_text\" class=\"title\">\\n\\t\\t\\t</span>\\n\\t\\t\\t<i class=\"close icon\"></i>\\n\\t\\t</div>\\n\\t\\t<div id=\"notification_modal\" class=\"ui basic modal\">\\n\\t\\t\\t<div class=\"ui icon header\">\\n\\t\\t\\t\\t<i class=\"heart icon\"></i>\\n\\t\\t\\t\\t<span id=\"notification_modal_header\"></span>\\n\\t\\t\\t</div>\\n\\t\\t\\t<div class=\"content\" id=\"notification_modal_content\"></div>\\n\\t\\t</div>\\n\\t\\t\\n\\n\\t\\t\\n\\n\\t\\t<!-- Specific contents -->\\n\\n\\t\\t\\n\\n\\n\\n\\n\\n\\t\\t\\n\\n<div class=\"ui vertical stripe segment\">\\n    <div class=\"ui middle aligned stackable grid container\">\\n        <div class=\"row\">\\n            <div class=\"center aligned sixteen wide column\">\\n                <h1 class=\"ui header\">Explore spotteds!\\n                    <div class=\"sub header\">Procurando ideias? Quer saber detalhes sobre outros spotteds? Explore todo o nosso histórico!</div>\\n                </h1>\\n                <div class=\"ui search\">\\n                    <div class=\"ui icon input\">\\n                        <input id=\"search\" type=\"text\" placeholder=\"Pesquisar spotteds...\">\\n                        <i class=\"search icon\"></i>\\n                    </div>\\n                    <div class=\"results\"></div>\\n                </div>\\n            </div>\\n        </div>\\n    </div>\\n    <br>\\n    <br>\\n    <br>\\n\\n    \\n<style type=\"text/css\">\\n/* Mobile */\\n@media only screen and (max-width: 767px) {\\n    [class*=\"mobile hidden\"],\\n    [class*=\"tablet only\"]:not(.mobile),\\n    [class*=\"computer only\"]:not(.mobile),\\n    [class*=\"large screen only\"]:not(.mobile),\\n    [class*=\"widescreen only\"]:not(.mobile),\\n    [class*=\"or lower hidden\"] {\\n        display: none !important;\\n    }\\n}\\n\\n/* Tablet / iPad Portrait */\\n@media only screen and (min-width: 768px) and (max-width: 991px) {\\n    [class*=\"mobile only\"]:not(.tablet),\\n    [class*=\"tablet hidden\"],\\n    [class*=\"computer only\"]:not(.tablet),\\n    [class*=\"large screen only\"]:not(.tablet),\\n    [class*=\"widescreen only\"]:not(.tablet),\\n    [class*=\"or lower hidden\"]:not(.mobile) {\\n        display: none !important;\\n    }\\n}\\n\\n/* Computer / Desktop / iPad Landscape */\\n@media only screen and (min-width: 992px) and (max-width: 1199px) {\\n    [class*=\"mobile only\"]:not(.computer),\\n    [class*=\"tablet only\"]:not(.computer),\\n    [class*=\"computer hidden\"],\\n    [class*=\"large screen only\"]:not(.computer),\\n    [class*=\"widescreen only\"]:not(.computer),\\n    [class*=\"or lower hidden\"]:not(.tablet):not(.mobile) {\\n        display: none !important;\\n    }\\n}\\n\\n/* Large Monitor */\\n@media only screen and (min-width: 1200px) and (max-width: 1919px) {\\n    [class*=\"mobile only\"]:not([class*=\"large screen\"]),\\n    [class*=\"tablet only\"]:not([class*=\"large screen\"]),\\n    [class*=\"computer only\"]:not([class*=\"large screen\"]),\\n    [class*=\"large screen hidden\"],\\n    [class*=\"widescreen only\"]:not([class*=\"large screen\"]),\\n    [class*=\"or lower hidden\"]:not(.computer):not(.tablet):not(.mobile) {\\n        display: none !important;\\n    }\\n}\\n\\n/* Widescreen Monitor */\\n@media only screen and (min-width: 1920px) {\\n    [class*=\"mobile only\"]:not([class*=\"widescreen\"]),\\n    [class*=\"tablet only\"]:not([class*=\"widescreen\"]),\\n    [class*=\"computer only\"]:not([class*=\"widescreen\"]),\\n    [class*=\"large screen only\"]:not([class*=\"widescreen\"]),\\n    [class*=\"widescreen hidden\"],\\n    [class*=\"widescreen or lower hidden\"] {\\n        display: none !important;\\n    }\\n}\\n</style>\\n\\n\\n<script type=\"text/javascript\">\\n    function get_url_param(param) {\\n        query = window.location.search.substring(1);\\n        vars = query.split(\\'&\\');\\n        for (i in vars) {\\n            pair = vars[i].split(\\'=\\');\\n            if (decodeURIComponent(pair[0]) == param)\\n                return decodeURIComponent(pair[1]);\\n        }\\n        return \"\";\\n    }\\n    function go_to_page(page) {\\n        path = \"?page=\" + page;\\n        search = get_url_param(\"search\");\\n        if (search != \"\")\\n            path = path + \\'&search=\\' + search;\\n        document.location.href = path;\\n    }\\n    var input = document.getElementById(\"search\");\\n    input.value = get_url_param(\"search\");\\n    input.addEventListener(\"keyup\", function(event) {\\n        event.preventDefault();\\n        if (event.keyCode === 13) {\\n            document.location.href = \\'?search=\\' + document.getElementById(\"search\").value;\\n        }\\n    });\\n</script>\\n\\n\\n<div class=\"ui grid container\">\\n    <div class=\"ui centered sixteen wide tablet ten wide computer column\">\\n        \\n        <div class=\"ui divided items\">\\n            \\n            <div class=\"item\">\\n                <div class=\"content\">\\n                    <a href=\"/spotted/view_spotted/109935/\" class=\"header\">Spotted #109935</a>\\n                    <div class=\"meta\">\\n                        5 de Abril de 2020 às 15:34\\n                    </div>\\n                    <div class=\"description\">\\n                        <p>\\n                            Vitória Burgon, já te vi algumas vezes pela unicamp e sempre te achei maravilhosa, mas não sabia seu nome. Hoje o facebook vem me recomendar essa amizade haha. Ta solteira? pode chamar inbox?\\n                        </p>\\n                    </div>\\n                    <div class=\"extra\">\\n                        \\n                        \\n                        <div class=\"ui label pink small\">\\n                            <i class=\"key icon\"></i>\\n                            Tem autor\\n                        </div>\\n                        \\n                        \\n                        <div class=\"ui label red small\">\\n                            <i class=\"heart icon\"></i>\\n                            Tem crush\\n                        </div>\\n                        \\n                    </div>\\n                    <div class=\"mobile hidden\">\\n                        <div class=\"extra\">\\n                            <a href=\"/spotted/view_spotted/109935/\">\\n                                <div class=\"ui green left floated labeled icon button\">\\n                                    <i class=\"envelope open icon\"></i>\\n                                    Ver detalhes\\n                                </div>\\n                            </a>\\n                            <a href=\"https://facebook.com/183181388525237_1591645571012138\">\\n                                <div class=\"ui blue right floated labeled icon button\">\\n                                    <i class=\"facebook icon\"></i>\\n                                    Ver no Facebook\\n                                </div>\\n                            </a>\\n                        </div>\\n                    </div>\\n                    <div class=\"mobile only\">\\n                        <div class=\"extra\">\\n                            <a href=\"/spotted/view_spotted/109935/\">\\n                                <div class=\"ui green left floated button tiny\">\\n                                    Ver detalhes\\n                                </div>\\n                            </a>\\n                            <a href=\"https://facebook.com/183181388525237_1591645571012138\">\\n                                <div class=\"ui blue right floated button tiny\">\\n                                    Ver no Facebook\\n                                </div>\\n                            </a>\\n                        </div>\\n                    </div>\\n                </div>\\n            </div>\\n            \\n            <div class=\"item\">\\n                <div class=\"content\">\\n                    <a href=\"/spotted/view_spotted/109934/\" class=\"header\">Spotted #109934</a>\\n                    <div class=\"meta\">\\n                        3 de Abril de 2020 às 21:24\\n                    </div>\\n                    <div class=\"description\">\\n                        <p>\\n                            Behka Santos é muito linda e estilosa! Beija meninos?\\n                        </p>\\n                    </div>\\n                    <div class=\"extra\">\\n                        \\n                        \\n                        <div class=\"ui label pink small\">\\n                            <i class=\"key icon\"></i>\\n                            Tem autor\\n                        </div>\\n                        \\n                        \\n                    </div>\\n                    <div class=\"mobile hidden\">\\n                        <div class=\"extra\">\\n                            <a href=\"/spotted/view_spotted/109934/\">\\n                                <div class=\"ui green left floated labeled icon button\">\\n                                    <i class=\"envelope open icon\"></i>\\n                                    Ver detalhes\\n                                </div>\\n                            </a>\\n                            <a href=\"https://facebook.com/183181388525237_1590107977832564\">\\n                                <div class=\"ui blue right floated labeled icon button\">\\n                                    <i class=\"facebook icon\"></i>\\n                                    Ver no Facebook\\n                                </div>\\n                            </a>\\n                        </div>\\n                    </div>\\n                    <div class=\"mobile only\">\\n                        <div class=\"extra\">\\n                            <a href=\"/spotted/view_spotted/109934/\">\\n                                <div class=\"ui green left floated button tiny\">\\n                                    Ver detalhes\\n                                </div>\\n                            </a>\\n                            <a href=\"https://facebook.com/183181388525237_1590107977832564\">\\n                                <div class=\"ui blue right floated button tiny\">\\n                                    Ver no Facebook\\n                                </div>\\n                            </a>\\n                        </div>\\n                    </div>\\n                </div>\\n            </div>\\n            \\n            <div class=\"item\">\\n                <div class=\"content\">\\n                    <a href=\"/spotted/view_spotted/109933/\" class=\"header\">Spotted #109933</a>\\n                    <div class=\"meta\">\\n                        3 de Abril de 2020 às 10:05\\n                    </div>\\n                    <div class=\"description\">\\n                        <p>\\n                            João Mergulhão, te adicionei no fb pq te achei bonito e agr vendo suas postagens to te achando fofo demaisss. Está disponível?? Como um menino faz pra te conhecer??\\n                        </p>\\n                    </div>\\n                    <div class=\"extra\">\\n                        \\n                        \\n                        <div class=\"ui label pink small\">\\n                            <i class=\"key icon\"></i>\\n                            Tem autor\\n                        </div>\\n                        \\n                        \\n                    </div>\\n                    <div class=\"mobile hidden\">\\n                        <div class=\"extra\">\\n                            <a href=\"/spotted/view_spotted/109933/\">\\n                                <div class=\"ui green left floated labeled icon button\">\\n                                    <i class=\"envelope open icon\"></i>\\n                                    Ver detalhes\\n                                </div>\\n                            </a>\\n                            <a href=\"https://facebook.com/183181388525237_1589657431210952\">\\n                                <div class=\"ui blue right floated labeled icon button\">\\n                                    <i class=\"facebook icon\"></i>\\n                                    Ver no Facebook\\n                                </div>\\n                            </a>\\n                        </div>\\n                    </div>\\n                    <div class=\"mobile only\">\\n                        <div class=\"extra\">\\n                            <a href=\"/spotted/view_spotted/109933/\">\\n                                <div class=\"ui green left floated button tiny\">\\n                                    Ver detalhes\\n                                </div>\\n                            </a>\\n                            <a href=\"https://facebook.com/183181388525237_1589657431210952\">\\n                                <div class=\"ui blue right floated button tiny\">\\n                                    Ver no Facebook\\n                                </div>\\n                            </a>\\n                        </div>\\n                    </div>\\n                </div>\\n            </div>\\n            \\n            <div class=\"item\">\\n                <div class=\"content\">\\n                    <a href=\"/spotted/view_spotted/109932/\" class=\"header\">Spotted #109932</a>\\n                    <div class=\"meta\">\\n                        2 de Abril de 2020 às 18:19\\n                    </div>\\n                    <div class=\"description\">\\n                        <p>\\n                            Guilherme Bessin apareceu nas sugestões sob facebook e achei ele muito gato. Beija meninos? Tenho interesse pos quarentena.\\n                        </p>\\n                    </div>\\n                    <div class=\"extra\">\\n                        \\n                        \\n                        <div class=\"ui label pink small\">\\n                            <i class=\"key icon\"></i>\\n                            Tem autor\\n                        </div>\\n                        \\n                        \\n                    </div>\\n                    <div class=\"mobile hidden\">\\n                        <div class=\"extra\">\\n                            <a href=\"/spotted/view_spotted/109932/\">\\n                                <div class=\"ui green left floated labeled icon button\">\\n                                    <i class=\"envelope open icon\"></i>\\n                                    Ver detalhes\\n                                </div>\\n                            </a>\\n                            <a href=\"https://facebook.com/183181388525237_1589149931261702\">\\n                                <div class=\"ui blue right floated labeled icon button\">\\n                                    <i class=\"facebook icon\"></i>\\n                                    Ver no Facebook\\n                                </div>\\n                            </a>\\n                        </div>\\n                    </div>\\n                    <div class=\"mobile only\">\\n                        <div class=\"extra\">\\n                            <a href=\"/spotted/view_spotted/109932/\">\\n                                <div class=\"ui green left floated button tiny\">\\n                                    Ver detalhes\\n                                </div>\\n                            </a>\\n                            <a href=\"https://facebook.com/183181388525237_1589149931261702\">\\n                                <div class=\"ui blue right floated button tiny\">\\n                                    Ver no Facebook\\n                                </div>\\n                            </a>\\n                        </div>\\n                    </div>\\n                </div>\\n            </div>\\n            \\n            <div class=\"item\">\\n                <div class=\"content\">\\n                    <a href=\"/spotted/view_spotted/109931/\" class=\"header\">Spotted #109931</a>\\n                    <div class=\"meta\">\\n                        1 de Abril de 2020 às 18:35\\n                    </div>\\n                    <div class=\"description\">\\n                        <p>\\n                            [crush da ohana] Estava saindo hoje de casa para ir a padaria e via uma moça linda passando com um saco de compras. ela era banca com um cabelo longo e preto, estava com uma camisa branca e um shorts escrito &quot;ohana&quot;.. Moça ta solteira ? um cara da fisica ...\\n                        </p>\\n                    </div>\\n                    <div class=\"extra\">\\n                        \\n                        \\n                        <div class=\"ui label pink small\">\\n                            <i class=\"key icon\"></i>\\n                            Tem autor\\n                        </div>\\n                        \\n                        \\n                    </div>\\n                    <div class=\"mobile hidden\">\\n                        <div class=\"extra\">\\n                            <a href=\"/spotted/view_spotted/109931/\">\\n                                <div class=\"ui green left floated labeled icon button\">\\n                                    <i class=\"envelope open icon\"></i>\\n                                    Ver detalhes\\n                                </div>\\n                            </a>\\n                            <a href=\"https://facebook.com/183181388525237_1588280364681992\">\\n                                <div class=\"ui blue right floated labeled icon button\">\\n                                    <i class=\"facebook icon\"></i>\\n                                    Ver no Facebook\\n                                </div>\\n                            </a>\\n                        </div>\\n                    </div>\\n                    <div class=\"mobile only\">\\n                        <div class=\"extra\">\\n                            <a href=\"/spotted/view_spotted/109931/\">\\n                                <div class=\"ui green left floated button tiny\">\\n                                    Ver detalhes\\n                                </div>\\n                            </a>\\n                            <a href=\"https://facebook.com/183181388525237_1588280364681992\">\\n                                <div class=\"ui blue right floated button tiny\">\\n                                    Ver no Facebook\\n                                </div>\\n                            </a>\\n                        </div>\\n                    </div>\\n                </div>\\n            </div>\\n            \\n            <div class=\"item\">\\n                <div class=\"content\">\\n                    <a href=\"/spotted/view_spotted/109930/\" class=\"header\">Spotted #109930</a>\\n                    <div class=\"meta\">\\n                        1 de Abril de 2020 às 08:27\\n                    </div>\\n                    <div class=\"description\">\\n                        <p>\\n                            Vitória Bellini, te vi nas sugestões um tempinho atrás e queria dizer que vc n saiu mais da minha cabeça hahahah nossa moça, achei vc muito muito linda e mt fofa, que encanto de pessoa. Se estiver disposta a tentar pelo menos uma amizade, da um sinal :) você é ...\\n                        </p>\\n                    </div>\\n                    <div class=\"extra\">\\n                        \\n                        \\n                        <div class=\"ui label pink small\">\\n                            <i class=\"key icon\"></i>\\n                            Tem autor\\n                        </div>\\n                        \\n                        \\n                    </div>\\n                    <div class=\"mobile hidden\">\\n                        <div class=\"extra\">\\n                            <a href=\"/spotted/view_spotted/109930/\">\\n                                <div class=\"ui green left floated labeled icon button\">\\n                                    <i class=\"envelope open icon\"></i>\\n                                    Ver detalhes\\n                                </div>\\n                            </a>\\n                            <a href=\"https://facebook.com/183181388525237_1587828518060510\">\\n                                <div class=\"ui blue right floated labeled icon button\">\\n                                    <i class=\"facebook icon\"></i>\\n                                    Ver no Facebook\\n                                </div>\\n                            </a>\\n                        </div>\\n                    </div>\\n                    <div class=\"mobile only\">\\n                        <div class=\"extra\">\\n                            <a href=\"/spotted/view_spotted/109930/\">\\n                                <div class=\"ui green left floated button tiny\">\\n                                    Ver detalhes\\n                                </div>\\n                            </a>\\n                            <a href=\"https://facebook.com/183181388525237_1587828518060510\">\\n                                <div class=\"ui blue right floated button tiny\">\\n                                    Ver no Facebook\\n                                </div>\\n                            </a>\\n                        </div>\\n                    </div>\\n                </div>\\n            </div>\\n            \\n            <div class=\"item\">\\n                <div class=\"content\">\\n                    <a href=\"/spotted/view_spotted/109929/\" class=\"header\">Spotted #109929</a>\\n                    <div class=\"meta\">\\n                        1 de Abril de 2020 às 02:04\\n                    </div>\\n                    <div class=\"description\">\\n                        <p>\\n                            Júlia Trettel, precisa apelar pro Tinder não. Se estiver afim, bora trocar uma ideia pra ver se melhora um pouco essa quarentena (:\\n                        </p>\\n                    </div>\\n                    <div class=\"extra\">\\n                        \\n                        \\n                        <div class=\"ui label pink small\">\\n                            <i class=\"key icon\"></i>\\n                            Tem autor\\n                        </div>\\n                        \\n                        \\n                        <div class=\"ui label red small\">\\n                            <i class=\"heart icon\"></i>\\n                            Tem crush\\n                        </div>\\n                        \\n                    </div>\\n                    <div class=\"mobile hidden\">\\n                        <div class=\"extra\">\\n                            <a href=\"/spotted/view_spotted/109929/\">\\n                                <div class=\"ui green left floated labeled icon button\">\\n                                    <i class=\"envelope open icon\"></i>\\n                                    Ver detalhes\\n                                </div>\\n                            </a>\\n                            <a href=\"https://facebook.com/183181388525237_1587626531414042\">\\n                                <div class=\"ui blue right floated labeled icon button\">\\n                                    <i class=\"facebook icon\"></i>\\n                                    Ver no Facebook\\n                                </div>\\n                            </a>\\n                        </div>\\n                    </div>\\n                    <div class=\"mobile only\">\\n                        <div class=\"extra\">\\n                            <a href=\"/spotted/view_spotted/109929/\">\\n                                <div class=\"ui green left floated button tiny\">\\n                                    Ver detalhes\\n                                </div>\\n                            </a>\\n                            <a href=\"https://facebook.com/183181388525237_1587626531414042\">\\n                                <div class=\"ui blue right floated button tiny\">\\n                                    Ver no Facebook\\n                                </div>\\n                            </a>\\n                        </div>\\n                    </div>\\n                </div>\\n            </div>\\n            \\n            <div class=\"item\">\\n                <div class=\"content\">\\n                    <a href=\"/spotted/view_spotted/109928/\" class=\"header\">Spotted #109928</a>\\n                    <div class=\"meta\">\\n                        31 de Março de 2020 às 19:54\\n                    </div>\\n                    <div class=\"description\">\\n                        <p>\\n                            Gostaria nessa quarentena de enaltecer a beleza da Beatriz Chiari, tá difícil ficar sem te ver sempre!!! Oh mulher maravilhosa !!\\n                        </p>\\n                    </div>\\n                    <div class=\"extra\">\\n                        \\n                        \\n                        <div class=\"ui label pink small\">\\n                            <i class=\"key icon\"></i>\\n                            Tem autor\\n                        </div>\\n                        \\n                        \\n                        <div class=\"ui label red small\">\\n                            <i class=\"heart icon\"></i>\\n                            Tem crush\\n                        </div>\\n                        \\n                    </div>\\n                    <div class=\"mobile hidden\">\\n                        <div class=\"extra\">\\n                            <a href=\"/spotted/view_spotted/109928/\">\\n                                <div class=\"ui green left floated labeled icon button\">\\n                                    <i class=\"envelope open icon\"></i>\\n                                    Ver detalhes\\n                                </div>\\n                            </a>\\n                            <a href=\"https://facebook.com/183181388525237_1587405731436122\">\\n                                <div class=\"ui blue right floated labeled icon button\">\\n                                    <i class=\"facebook icon\"></i>\\n                                    Ver no Facebook\\n                                </div>\\n                            </a>\\n                        </div>\\n                    </div>\\n                    <div class=\"mobile only\">\\n                        <div class=\"extra\">\\n                            <a href=\"/spotted/view_spotted/109928/\">\\n                                <div class=\"ui green left floated button tiny\">\\n                                    Ver detalhes\\n                                </div>\\n                            </a>\\n                            <a href=\"https://facebook.com/183181388525237_1587405731436122\">\\n                                <div class=\"ui blue right floated button tiny\">\\n                                    Ver no Facebook\\n                                </div>\\n                            </a>\\n                        </div>\\n                    </div>\\n                </div>\\n            </div>\\n            \\n            <div class=\"item\">\\n                <div class=\"content\">\\n                    <a href=\"/spotted/view_spotted/109926/\" class=\"header\">Spotted #109926</a>\\n                    <div class=\"meta\">\\n                        30 de Março de 2020 às 22:38\\n                    </div>\\n                    <div class=\"description\">\\n                        <p>\\n                            Maria Eduarda da Licenciatura Integrada Química/Física, te vi nas aulas de Calc II do Mahendra e te achei super fofa, posso te chamar no PV pra conversar?\\n                        </p>\\n                    </div>\\n                    <div class=\"extra\">\\n                        \\n                        \\n                        <div class=\"ui label pink small\">\\n                            <i class=\"key icon\"></i>\\n                            Tem autor\\n                        </div>\\n                        \\n                        \\n                    </div>\\n                    <div class=\"mobile hidden\">\\n                        <div class=\"extra\">\\n                            <a href=\"/spotted/view_spotted/109926/\">\\n                                <div class=\"ui green left floated labeled icon button\">\\n                                    <i class=\"envelope open icon\"></i>\\n                                    Ver detalhes\\n                                </div>\\n                            </a>\\n                            <a href=\"https://facebook.com/183181388525237_1586622894847739\">\\n                                <div class=\"ui blue right floated labeled icon button\">\\n                                    <i class=\"facebook icon\"></i>\\n                                    Ver no Facebook\\n                                </div>\\n                            </a>\\n                        </div>\\n                    </div>\\n                    <div class=\"mobile only\">\\n                        <div class=\"extra\">\\n                            <a href=\"/spotted/view_spotted/109926/\">\\n                                <div class=\"ui green left floated button tiny\">\\n                                    Ver detalhes\\n                                </div>\\n                            </a>\\n                            <a href=\"https://facebook.com/183181388525237_1586622894847739\">\\n                                <div class=\"ui blue right floated button tiny\">\\n                                    Ver no Facebook\\n                                </div>\\n                            </a>\\n                        </div>\\n                    </div>\\n                </div>\\n            </div>\\n            \\n            <div class=\"item\">\\n                <div class=\"content\">\\n                    <a href=\"/spotted/view_spotted/109925/\" class=\"header\">Spotted #109925</a>\\n                    <div class=\"meta\">\\n                        30 de Março de 2020 às 19:09\\n                    </div>\\n                    <div class=\"description\">\\n                        <p>\\n                            André Artioli da Mec, te vi nas sugestões de amizade e te achei um gatinho. Beija meninos? Se não, fica ai o elogio.\\n                        </p>\\n                    </div>\\n                    <div class=\"extra\">\\n                        \\n                        \\n                        <div class=\"ui label pink small\">\\n                            <i class=\"key icon\"></i>\\n                            Tem autor\\n                        </div>\\n                        \\n                        \\n                    </div>\\n                    <div class=\"mobile hidden\">\\n                        <div class=\"extra\">\\n                            <a href=\"/spotted/view_spotted/109925/\">\\n                                <div class=\"ui green left floated labeled icon button\">\\n                                    <i class=\"envelope open icon\"></i>\\n                                    Ver detalhes\\n                                </div>\\n                            </a>\\n                            <a href=\"https://facebook.com/183181388525237_1586505568192805\">\\n                                <div class=\"ui blue right floated labeled icon button\">\\n                                    <i class=\"facebook icon\"></i>\\n                                    Ver no Facebook\\n                                </div>\\n                            </a>\\n                        </div>\\n                    </div>\\n                    <div class=\"mobile only\">\\n                        <div class=\"extra\">\\n                            <a href=\"/spotted/view_spotted/109925/\">\\n                                <div class=\"ui green left floated button tiny\">\\n                                    Ver detalhes\\n                                </div>\\n                            </a>\\n                            <a href=\"https://facebook.com/183181388525237_1586505568192805\">\\n                                <div class=\"ui blue right floated button tiny\">\\n                                    Ver no Facebook\\n                                </div>\\n                            </a>\\n                        </div>\\n                    </div>\\n                </div>\\n            </div>\\n            \\n        </div>\\n        \\n        <div class=\"ui horizontal divider\">Página 1 de 5911</div>\\n        <div class=\"mobile hidden\">\\n            \\n            \\n            <a onclick=\"go_to_page(2)\">\\n                <button class=\"ui right floated right labeled icon button\">\\n                    <i class=\"right arrow icon\"></i>\\n                    Próxima página\\n                </button>\\n            </a>\\n            \\n        </div>\\n        <div class=\"mobile only\">\\n            \\n            \\n            <a onclick=\"go_to_page(2)\">\\n                <button class=\"ui right floated right button small\">\\n                    Próxima página\\n                </button>\\n            </a>\\n            \\n        </div>\\n        \\n    </div>\\n</div>\\n\\n</div>\\n\\n\\n\\t</div>\\n\\t<script type=\"text/javascript\">\\n\\t\\tvar csrf = \"sJzciPlbp0irtwsGa0Ih301VAPUOGwuUAQRFRwwGecRjO4zz2BL5FLX28zsnHlXE\";\\n\\t\\tvar get_nag_message_url = \"/get_nag/\";\\n\\t\\tvar update_nag_message_url = \"/update_nag/\";\\n\\t</script>\\n\\t<script type=\"text/javascript\" src=\"/static/main/js/news_notification.aa09a1c7d317.js\"></script>\\n\\t\\n</body>\\n</html>\\n'"
            ]
          },
          "metadata": {
            "tags": []
          },
          "execution_count": 86
        }
      ]
    },
    {
      "cell_type": "code",
      "metadata": {
        "id": "fhwnNk63eFN0",
        "colab_type": "code",
        "colab": {}
      },
      "source": [
        "soup = BeautifulSoup(get_site.text)\n",
        "l = list(map(str,soup.findAll(\"div\", {\"class\":\"description\"})))"
      ],
      "execution_count": 0,
      "outputs": []
    },
    {
      "cell_type": "code",
      "metadata": {
        "id": "8LBkkeddeFOD",
        "colab_type": "code",
        "colab": {}
      },
      "source": [
        "spotteds = []\n",
        "for i in l:\n",
        "    spotteds.append(i.replace(\"\"\"<div class=\"description\">\n",
        "<p>\"\"\",\"\").replace(\"</p>\",\"\").replace(\"</div>\",\"\").replace(\"\\t\",\"\").replace(\"\\n                            \",\"\").replace(\"\\n                        \\n\",\"\"))\n"
      ],
      "execution_count": 0,
      "outputs": []
    },
    {
      "cell_type": "code",
      "metadata": {
        "id": "HPw60XgGeFOU",
        "colab_type": "code",
        "outputId": "8e6ce632-19d1-4182-e4a7-a399b1cde8d6",
        "colab": {
          "base_uri": "https://localhost:8080/",
          "height": 207
        }
      },
      "source": [
        "spotteds"
      ],
      "execution_count": 89,
      "outputs": [
        {
          "output_type": "execute_result",
          "data": {
            "text/plain": [
              "['Vitória Burgon, já te vi algumas vezes pela unicamp e sempre te achei maravilhosa, mas não sabia seu nome. Hoje o facebook vem me recomendar essa amizade haha. Ta solteira? pode chamar inbox?',\n",
              " 'Behka Santos é muito linda e estilosa! Beija meninos?',\n",
              " 'João Mergulhão, te adicionei no fb pq te achei bonito e agr vendo suas postagens to te achando fofo demaisss. Está disponível?? Como um menino faz pra te conhecer??',\n",
              " 'Guilherme Bessin apareceu nas sugestões sob facebook e achei ele muito gato. Beija meninos? Tenho interesse pos quarentena.',\n",
              " '[crush da ohana] Estava saindo hoje de casa para ir a padaria e via uma moça linda passando com um saco de compras. ela era banca com um cabelo longo e preto, estava com uma camisa branca e um shorts escrito \"ohana\".. Moça ta solteira ? um cara da fisica ...',\n",
              " 'Vitória Bellini, te vi nas sugestões um tempinho atrás e queria dizer que vc n saiu mais da minha cabeça hahahah nossa moça, achei vc muito muito linda e mt fofa, que encanto de pessoa. Se estiver disposta a tentar pelo menos uma amizade, da um sinal :) você é ...',\n",
              " 'Júlia Trettel, precisa apelar pro Tinder não. Se estiver afim, bora trocar uma ideia pra ver se melhora um pouco essa quarentena (:',\n",
              " 'Gostaria nessa quarentena de enaltecer a beleza da Beatriz Chiari, tá difícil ficar sem te ver sempre!!! Oh mulher maravilhosa !!',\n",
              " 'Maria Eduarda da Licenciatura Integrada Química/Física, te vi nas aulas de Calc II do Mahendra e te achei super fofa, posso te chamar no PV pra conversar?',\n",
              " 'André Artioli da Mec, te vi nas sugestões de amizade e te achei um gatinho. Beija meninos? Se não, fica ai o elogio.']"
            ]
          },
          "metadata": {
            "tags": []
          },
          "execution_count": 89
        }
      ]
    },
    {
      "cell_type": "code",
      "metadata": {
        "id": "BZ5RyXU8rZWa",
        "colab_type": "code",
        "colab": {
          "base_uri": "https://localhost:8080/",
          "height": 436
        },
        "outputId": "2f627e4f-708f-4157-8a0c-05fffc0be3c2"
      },
      "source": [
        "import pandas as pd\n",
        "\n",
        "spotteds = pd.DataFrame(columns=[\"Documentos\"])\n",
        "\n",
        "for i in range(1, 10):\n",
        "    get_site = get(spotted_link(i))\n",
        "    soup = BeautifulSoup(str(get_site.text))\n",
        "    l = list(map(str,soup.findAll(\"div\", {\"class\":\"description\"})))\n",
        "    for i in l:\n",
        "        spotteds = spotteds.append({\"Documentos\":i.replace(\"\"\"<div class=\"description\">\n",
        "<p>\"\"\",\"\").replace(\"</p>\",\"\").replace(\"</div>\",\"\").replace(\"\\t\",\"\").replace(\"\\n                            \",\"\").replace(\"\\n                        \\n\",\"\")}, ignore_index=True)\n",
        "spotteds"
      ],
      "execution_count": 94,
      "outputs": [
        {
          "output_type": "stream",
          "text": [
            "ERROR! Session/line number was not unique in database. History logging moved to new session 62\n"
          ],
          "name": "stdout"
        },
        {
          "output_type": "execute_result",
          "data": {
            "text/html": [
              "<div>\n",
              "<style scoped>\n",
              "    .dataframe tbody tr th:only-of-type {\n",
              "        vertical-align: middle;\n",
              "    }\n",
              "\n",
              "    .dataframe tbody tr th {\n",
              "        vertical-align: top;\n",
              "    }\n",
              "\n",
              "    .dataframe thead th {\n",
              "        text-align: right;\n",
              "    }\n",
              "</style>\n",
              "<table border=\"1\" class=\"dataframe\">\n",
              "  <thead>\n",
              "    <tr style=\"text-align: right;\">\n",
              "      <th></th>\n",
              "      <th>Documentos</th>\n",
              "    </tr>\n",
              "  </thead>\n",
              "  <tbody>\n",
              "    <tr>\n",
              "      <th>0</th>\n",
              "      <td>Vitória Burgon, já te vi algumas vezes pela un...</td>\n",
              "    </tr>\n",
              "    <tr>\n",
              "      <th>1</th>\n",
              "      <td>Behka Santos é muito linda e estilosa! Beija m...</td>\n",
              "    </tr>\n",
              "    <tr>\n",
              "      <th>2</th>\n",
              "      <td>João Mergulhão, te adicionei no fb pq te achei...</td>\n",
              "    </tr>\n",
              "    <tr>\n",
              "      <th>3</th>\n",
              "      <td>Guilherme Bessin apareceu nas sugestões sob fa...</td>\n",
              "    </tr>\n",
              "    <tr>\n",
              "      <th>4</th>\n",
              "      <td>[crush da ohana] Estava saindo hoje de casa pa...</td>\n",
              "    </tr>\n",
              "    <tr>\n",
              "      <th>...</th>\n",
              "      <td>...</td>\n",
              "    </tr>\n",
              "    <tr>\n",
              "      <th>85</th>\n",
              "      <td>Tainá Oliveira, do IEL, meu crush em você é et...</td>\n",
              "    </tr>\n",
              "    <tr>\n",
              "      <th>86</th>\n",
              "      <td>Vini Camilloti do ifch, te adicionei no face e...</td>\n",
              "    </tr>\n",
              "    <tr>\n",
              "      <th>87</th>\n",
              "      <td>O anonimato do spotted me deixa um pouco mais ...</td>\n",
              "    </tr>\n",
              "    <tr>\n",
              "      <th>88</th>\n",
              "      <td>Poxa, a quarentena faz a gente refletir muito ...</td>\n",
              "    </tr>\n",
              "    <tr>\n",
              "      <th>89</th>\n",
              "      <td>Nessa quarentena ta foda controlar a bulimia.....</td>\n",
              "    </tr>\n",
              "  </tbody>\n",
              "</table>\n",
              "<p>90 rows × 1 columns</p>\n",
              "</div>"
            ],
            "text/plain": [
              "                                           Documentos\n",
              "0   Vitória Burgon, já te vi algumas vezes pela un...\n",
              "1   Behka Santos é muito linda e estilosa! Beija m...\n",
              "2   João Mergulhão, te adicionei no fb pq te achei...\n",
              "3   Guilherme Bessin apareceu nas sugestões sob fa...\n",
              "4   [crush da ohana] Estava saindo hoje de casa pa...\n",
              "..                                                ...\n",
              "85  Tainá Oliveira, do IEL, meu crush em você é et...\n",
              "86  Vini Camilloti do ifch, te adicionei no face e...\n",
              "87  O anonimato do spotted me deixa um pouco mais ...\n",
              "88  Poxa, a quarentena faz a gente refletir muito ...\n",
              "89  Nessa quarentena ta foda controlar a bulimia.....\n",
              "\n",
              "[90 rows x 1 columns]"
            ]
          },
          "metadata": {
            "tags": []
          },
          "execution_count": 94
        }
      ]
    },
    {
      "cell_type": "code",
      "metadata": {
        "id": "RL16JrXOxcNR",
        "colab_type": "code",
        "colab": {}
      },
      "source": [
        "f = open(\"spotteds.csv\", \"a+\")\n",
        "f.write(spotteds.to_csv(index=False))\n",
        "f.close()\n"
      ],
      "execution_count": 0,
      "outputs": []
    },
    {
      "cell_type": "code",
      "metadata": {
        "id": "czV-PaOF1HCL",
        "colab_type": "code",
        "colab": {
          "base_uri": "https://localhost:8080/",
          "height": 419
        },
        "outputId": "05ca1f63-fb33-41a9-921b-75c43911c410"
      },
      "source": [
        "df = pd.read_csv(\"spotteds.csv\")\n",
        "df\n"
      ],
      "execution_count": 100,
      "outputs": [
        {
          "output_type": "execute_result",
          "data": {
            "text/html": [
              "<div>\n",
              "<style scoped>\n",
              "    .dataframe tbody tr th:only-of-type {\n",
              "        vertical-align: middle;\n",
              "    }\n",
              "\n",
              "    .dataframe tbody tr th {\n",
              "        vertical-align: top;\n",
              "    }\n",
              "\n",
              "    .dataframe thead th {\n",
              "        text-align: right;\n",
              "    }\n",
              "</style>\n",
              "<table border=\"1\" class=\"dataframe\">\n",
              "  <thead>\n",
              "    <tr style=\"text-align: right;\">\n",
              "      <th></th>\n",
              "      <th>Documentos</th>\n",
              "    </tr>\n",
              "  </thead>\n",
              "  <tbody>\n",
              "    <tr>\n",
              "      <th>0</th>\n",
              "      <td>Vitória Burgon, já te vi algumas vezes pela un...</td>\n",
              "    </tr>\n",
              "    <tr>\n",
              "      <th>1</th>\n",
              "      <td>Behka Santos é muito linda e estilosa! Beija m...</td>\n",
              "    </tr>\n",
              "    <tr>\n",
              "      <th>2</th>\n",
              "      <td>João Mergulhão, te adicionei no fb pq te achei...</td>\n",
              "    </tr>\n",
              "    <tr>\n",
              "      <th>3</th>\n",
              "      <td>Guilherme Bessin apareceu nas sugestões sob fa...</td>\n",
              "    </tr>\n",
              "    <tr>\n",
              "      <th>4</th>\n",
              "      <td>[crush da ohana] Estava saindo hoje de casa pa...</td>\n",
              "    </tr>\n",
              "    <tr>\n",
              "      <th>...</th>\n",
              "      <td>...</td>\n",
              "    </tr>\n",
              "    <tr>\n",
              "      <th>85</th>\n",
              "      <td>Tainá Oliveira, do IEL, meu crush em você é et...</td>\n",
              "    </tr>\n",
              "    <tr>\n",
              "      <th>86</th>\n",
              "      <td>Vini Camilloti do ifch, te adicionei no face e...</td>\n",
              "    </tr>\n",
              "    <tr>\n",
              "      <th>87</th>\n",
              "      <td>O anonimato do spotted me deixa um pouco mais ...</td>\n",
              "    </tr>\n",
              "    <tr>\n",
              "      <th>88</th>\n",
              "      <td>Poxa, a quarentena faz a gente refletir muito ...</td>\n",
              "    </tr>\n",
              "    <tr>\n",
              "      <th>89</th>\n",
              "      <td>Nessa quarentena ta foda controlar a bulimia.....</td>\n",
              "    </tr>\n",
              "  </tbody>\n",
              "</table>\n",
              "<p>90 rows × 1 columns</p>\n",
              "</div>"
            ],
            "text/plain": [
              "                                           Documentos\n",
              "0   Vitória Burgon, já te vi algumas vezes pela un...\n",
              "1   Behka Santos é muito linda e estilosa! Beija m...\n",
              "2   João Mergulhão, te adicionei no fb pq te achei...\n",
              "3   Guilherme Bessin apareceu nas sugestões sob fa...\n",
              "4   [crush da ohana] Estava saindo hoje de casa pa...\n",
              "..                                                ...\n",
              "85  Tainá Oliveira, do IEL, meu crush em você é et...\n",
              "86  Vini Camilloti do ifch, te adicionei no face e...\n",
              "87  O anonimato do spotted me deixa um pouco mais ...\n",
              "88  Poxa, a quarentena faz a gente refletir muito ...\n",
              "89  Nessa quarentena ta foda controlar a bulimia.....\n",
              "\n",
              "[90 rows x 1 columns]"
            ]
          },
          "metadata": {
            "tags": []
          },
          "execution_count": 100
        }
      ]
    }
  ]
}