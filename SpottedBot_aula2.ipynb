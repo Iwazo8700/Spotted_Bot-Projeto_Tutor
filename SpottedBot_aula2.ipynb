{
  "nbformat": 4,
  "nbformat_minor": 0,
  "metadata": {
    "colab": {
      "name": "Aula2.ipynb",
      "provenance": [],
      "collapsed_sections": []
    },
    "kernelspec": {
      "name": "python3",
      "display_name": "Python 3"
    }
  },
  "cells": [
    {
      "cell_type": "markdown",
      "metadata": {
        "id": "VrVBdORbCCNm",
        "colab_type": "text"
      },
      "source": [
        "# Notebook da primeira aula de programação"
      ]
    },
    {
      "cell_type": "markdown",
      "metadata": {
        "id": "Zh7oHRumxVUQ",
        "colab_type": "text"
      },
      "source": [
        "# New Section"
      ]
    },
    {
      "cell_type": "markdown",
      "metadata": {
        "id": "hYz3zhgnCh_3",
        "colab_type": "text"
      },
      "source": [
        "## Configuração do setup(import de bibliotecas e classes)"
      ]
    },
    {
      "cell_type": "code",
      "metadata": {
        "id": "dqnVsZZc--gl",
        "colab_type": "code",
        "colab": {}
      },
      "source": [
        "from requests import get\n",
        "from bs4 import BeautifulSoup\n",
        "import pandas as pd"
      ],
      "execution_count": 0,
      "outputs": []
    },
    {
      "cell_type": "markdown",
      "metadata": {
        "id": "g32x8fnLCuBb",
        "colab_type": "text"
      },
      "source": [
        "## Requesição do site e edição do html"
      ]
    },
    {
      "cell_type": "code",
      "metadata": {
        "id": "YPXfgO43_lhq",
        "colab_type": "code",
        "colab": {}
      },
      "source": [
        "# funcao que recebe um int e retorna a pagina i do spotted\n",
        "spotted_link = lambda i: \"https://spottedsunicamp.herokuapp.com/spotted/list_spotteds/?page=%d\"%i"
      ],
      "execution_count": 0,
      "outputs": []
    },
    {
      "cell_type": "code",
      "metadata": {
        "id": "93l9ZPha_l3U",
        "colab_type": "code",
        "outputId": "e4046bee-c456-4228-8baf-e106ae4d2443",
        "colab": {
          "base_uri": "https://localhost:8080/",
          "height": 54
        }
      },
      "source": [
        "# requisição do site\n",
        "get_site = get(spotted_link(1))\n",
        "get_site.text"
      ],
      "execution_count": 0,
      "outputs": [
        {
          "output_type": "execute_result",
          "data": {
            "text/plain": [
              "'<!doctype html>\\n<html>\\n\\n<head>\\n\\n\\t<!-- Load project\\'s staticfiles -->\\n\\t\\n\\t\\n\\t<!-- facebook meta tags -->\\n\\t<meta property=\"fb:app_id\"          content=\"1204077889712577\" />\\n\\t<meta property=\"og:type\"            content=\"website\" />\\n\\t<meta property=\"og:url\"             content=\"https://spottedsunicamp.herokuapp.com/\" />\\n\\t<meta property=\"og:title\"           content=\"Spotted Unicamp\" />\\n\\t<meta property=\"og:image\"           content=\"https://spottedsunicamp.herokuapp.com/static/main/img/logo.2f24221441b7.png\" />\\n\\t<meta property=\"og:description\"    content=\"Because true love dies. Faça seu primeiro login para se registrar em nosso sistema e ser marcado em spotteds.\" />\\n\\n\\t<meta charset=\"utf-8\">\\n\\t<meta http-equiv=\"X-UA-Compatible\" content=\"IE=edge\">\\n\\t<meta name=\"viewport\" content=\"width=device-width, initial-scale=1.0, maximum-scale=1.0\">\\n\\t<meta name=\"description\" content=\"Because true love never dies\">\\n\\t<link rel=\"icon\" href=\"/static/main/img/favicon.7f26403ba2a0.png\">\\n\\n\\t<title>Spotted Unicamp</title>\\n\\n\\t<!-- jQuery -->\\n\\t<script\\n\\tsrc=\"https://code.jquery.com/jquery-3.1.1.min.js\"\\n\\tintegrity=\"sha256-hVVnYaiADRTO2PzUGmuLJr8BLUSjGIZsDYGmIJLv2b8=\"\\n\\tcrossorigin=\"anonymous\"></script>\\n\\t<script src=\"https://cdnjs.cloudflare.com/ajax/libs/jquery-cookie/1.4.1/jquery.cookie.min.js\"></script>\\n\\n\\t<!-- jQuery Cookie -->\\n\\t<script src=\"https://cdn.jsdelivr.net/npm/js-cookie@2/src/js.cookie.min.js\"></script>\\n\\n\\t<!-- Semantic-UI JS -->\\n\\t<script src=\"https://cdnjs.cloudflare.com/ajax/libs/semantic-ui/2.2.7/semantic.js\"></script>\\n\\n\\t<!-- Semantic-UI CSS -->\\n\\t<link rel=\"stylesheet\" href=\"https://cdnjs.cloudflare.com/ajax/libs/semantic-ui/2.2.7/semantic.css\">\\n\\n\\t<!-- Material and Awesome Fonts and Icons -->\\n\\t<link href=\"https://fonts.googleapis.com/icon?family=Material+Icons\" rel=\"stylesheet\">\\n\\t<link href=\"//maxcdn.bootstrapcdn.com/font-awesome/4.1.0/css/font-awesome.min.css\" rel=\"stylesheet\">\\n\\n\\t<!-- Fonts -->\\n\\t<link href=\"https://fonts.googleapis.com/css?family=Open+Sans|Roboto\" rel=\"stylesheet\">\\n\\n\\n\\t<!-- Local scripts -->\\n\\t<script type=\"text/javascript\" src=\"/static/main/js/sidebar.7b3f1714ee76.js\"></script>\\n\\t<script type=\"text/javascript\">\\n\\t\\tfunction OnFbLogin() {\\n\\t\\t\\twindow.location.href = \"/auth/facebook/login/\";\\n\\t\\t}\\n\\t</script>\\n\\n\\t<!-- Local stylesheets -->\\n\\t<link rel=\"stylesheet\" type=\"text/css\" href=\"/static/main/css/menu.c3914fea0748.css\">\\n\\t<link rel=\"stylesheet\" type=\"text/css\" href=\"/static/main/css/responsive.ade785cbc49e.css\">\\n\\t<link rel=\"stylesheet\" type=\"text/css\" href=\"/static/main/css/colored_text.41ace7449b0f.css\">\\n\\n\\n\\t<!-- Page scripts -->\\n\\t\\n\\n\\t<!-- Page style -->\\n\\t\\n\\n\\t<!-- Google Analytics -->\\n\\t\\n\\n<script type=\"text/javascript\">\\n    var ga_id = \"UA-91650414-1\";\\n</script>\\n<script type=\"text/javascript\" src=\"/static/main/js/GA.9cb279b3a722.js\"></script>\\n\\n\\n\\n\\t<!-- Google Adsense -->\\n\\t\\n\\n\\n\\n</head>\\n\\n<body data-gr-c-s-loaded=\"true\" class=\"pushable\">\\n\\t<!-- Facebook SDK for nice login buttons -->\\n\\t\\n<div id=\"fb-root\"></div>\\n<script>(function(d, s, id) {\\n    var js, fjs = d.getElementsByTagName(s)[0];\\n    if (d.getElementById(id)) return;\\n    js = d.createElement(s); js.id = id;\\n    js.src = \\'https://connect.facebook.net/pt_BR/sdk.js#xfbml=1&version=v3.0&appId=1204077889712577&autoLogAppEvents=1\\';\\n    fjs.parentNode.insertBefore(js, fjs);\\n}(document, \\'script\\', \\'facebook-jssdk\\'));</script>\\n\\n\\n\\n\\t<!-- Sidebar Menu -->\\n\\t<div class=\"ui vertical inverted sidebar menu left\">\\n\\t\\t\\n\\t\\t<a href=\"/#submit\" class=\"right item\">Envie Spotteds</a>\\n\\t\\t<a href=\"/spotted/list_spotteds/\" class=\"item\">Explorar Spotteds</a>\\n\\t\\t<a href=\"/search/\" class=\"item\">Pegar contato</a>\\n\\t\\t<a href=\"/#report\" class=\"item\">Reportar</a>\\n\\t\\t\\n\\t</div>\\n\\n\\n\\t<!-- Page Contents -->\\n\\t<div class=\"pusher\">\\n\\n\\t\\t<!-- Menu -->\\n\\t\\t<div class=\"ui large blue secondary menu\">\\n\\t\\t\\t<div class=\"ui container\">\\n\\t\\t\\t\\t<a href=\"/\" class=\"toc item\">\\n\\t\\t\\t\\t\\t<img src=\"/static/main/img/logo.2f24221441b7.png\">\\n\\t\\t\\t\\t</a>\\n\\t\\t\\t\\t<a class=\"toc men right item\">\\n\\t\\t\\t\\t\\t<i class=\"sidebar big icon\"></i>\\n\\t\\t\\t\\t</a>\\n\\t\\t\\t\\t<a href=\"/\" class=\"item\">\\n\\t\\t\\t\\t\\t<img src=\"/static/main/img/logo.2f24221441b7.png\">\\n\\t\\t\\t\\t</a>\\n\\t\\t\\t\\t\\n\\t\\t\\t\\t<a href=\"/#submit\" class=\"right item\">Envie Spotteds</a>\\n\\t\\t\\t\\t<a href=\"/spotted/list_spotteds/\" class=\"item\">Explorar Spotteds</a>\\n\\t\\t\\t\\t<a href=\"/search/\" class=\"item\">Pegar contato</a>\\n\\t\\t\\t\\t<a href=\"/#report\" class=\"item\">Reportar</a>\\n\\n\\t\\t\\t\\t\\n\\t\\t\\t</div>\\n\\t\\t</div>\\n\\n\\t\\t<!-- Messages -->\\n\\n\\t\\t<div id=\"cookie_nag\" class=\"ui inline cookie nag\">\\n\\t\\t\\t<span id=\"cookie_nag_text\" class=\"title\">\\n\\t\\t\\t</span>\\n\\t\\t\\t<i class=\"close icon\"></i>\\n\\t\\t</div>\\n\\t\\t<div id=\"notification_modal\" class=\"ui basic modal\">\\n\\t\\t\\t<div class=\"ui icon header\">\\n\\t\\t\\t\\t<i class=\"heart icon\"></i>\\n\\t\\t\\t\\t<span id=\"notification_modal_header\"></span>\\n\\t\\t\\t</div>\\n\\t\\t\\t<div class=\"content\" id=\"notification_modal_content\"></div>\\n\\t\\t</div>\\n\\t\\t\\n\\n\\t\\t\\n\\n\\t\\t<!-- Specific contents -->\\n\\n\\t\\t\\n\\n\\n\\n\\n\\n\\t\\t\\n\\n<div class=\"ui vertical stripe segment\">\\n    <div class=\"ui middle aligned stackable grid container\">\\n        <div class=\"row\">\\n            <div class=\"center aligned sixteen wide column\">\\n                <h1 class=\"ui header\">Explore spotteds!\\n                    <div class=\"sub header\">Procurando ideias? Quer saber detalhes sobre outros spotteds? Explore todo o nosso histórico!</div>\\n                </h1>\\n                <div class=\"ui search\">\\n                    <div class=\"ui icon input\">\\n                        <input id=\"search\" type=\"text\" placeholder=\"Pesquisar spotteds...\">\\n                        <i class=\"search icon\"></i>\\n                    </div>\\n                    <div class=\"results\"></div>\\n                </div>\\n            </div>\\n        </div>\\n    </div>\\n    <br>\\n    <br>\\n    <br>\\n\\n    \\n<style type=\"text/css\">\\n/* Mobile */\\n@media only screen and (max-width: 767px) {\\n    [class*=\"mobile hidden\"],\\n    [class*=\"tablet only\"]:not(.mobile),\\n    [class*=\"computer only\"]:not(.mobile),\\n    [class*=\"large screen only\"]:not(.mobile),\\n    [class*=\"widescreen only\"]:not(.mobile),\\n    [class*=\"or lower hidden\"] {\\n        display: none !important;\\n    }\\n}\\n\\n/* Tablet / iPad Portrait */\\n@media only screen and (min-width: 768px) and (max-width: 991px) {\\n    [class*=\"mobile only\"]:not(.tablet),\\n    [class*=\"tablet hidden\"],\\n    [class*=\"computer only\"]:not(.tablet),\\n    [class*=\"large screen only\"]:not(.tablet),\\n    [class*=\"widescreen only\"]:not(.tablet),\\n    [class*=\"or lower hidden\"]:not(.mobile) {\\n        display: none !important;\\n    }\\n}\\n\\n/* Computer / Desktop / iPad Landscape */\\n@media only screen and (min-width: 992px) and (max-width: 1199px) {\\n    [class*=\"mobile only\"]:not(.computer),\\n    [class*=\"tablet only\"]:not(.computer),\\n    [class*=\"computer hidden\"],\\n    [class*=\"large screen only\"]:not(.computer),\\n    [class*=\"widescreen only\"]:not(.computer),\\n    [class*=\"or lower hidden\"]:not(.tablet):not(.mobile) {\\n        display: none !important;\\n    }\\n}\\n\\n/* Large Monitor */\\n@media only screen and (min-width: 1200px) and (max-width: 1919px) {\\n    [class*=\"mobile only\"]:not([class*=\"large screen\"]),\\n    [class*=\"tablet only\"]:not([class*=\"large screen\"]),\\n    [class*=\"computer only\"]:not([class*=\"large screen\"]),\\n    [class*=\"large screen hidden\"],\\n    [class*=\"widescreen only\"]:not([class*=\"large screen\"]),\\n    [class*=\"or lower hidden\"]:not(.computer):not(.tablet):not(.mobile) {\\n        display: none !important;\\n    }\\n}\\n\\n/* Widescreen Monitor */\\n@media only screen and (min-width: 1920px) {\\n    [class*=\"mobile only\"]:not([class*=\"widescreen\"]),\\n    [class*=\"tablet only\"]:not([class*=\"widescreen\"]),\\n    [class*=\"computer only\"]:not([class*=\"widescreen\"]),\\n    [class*=\"large screen only\"]:not([class*=\"widescreen\"]),\\n    [class*=\"widescreen hidden\"],\\n    [class*=\"widescreen or lower hidden\"] {\\n        display: none !important;\\n    }\\n}\\n</style>\\n\\n\\n<script type=\"text/javascript\">\\n    function get_url_param(param) {\\n        query = window.location.search.substring(1);\\n        vars = query.split(\\'&\\');\\n        for (i in vars) {\\n            pair = vars[i].split(\\'=\\');\\n            if (decodeURIComponent(pair[0]) == param)\\n                return decodeURIComponent(pair[1]);\\n        }\\n        return \"\";\\n    }\\n    function go_to_page(page) {\\n        path = \"?page=\" + page;\\n        search = get_url_param(\"search\");\\n        if (search != \"\")\\n            path = path + \\'&search=\\' + search;\\n        document.location.href = path;\\n    }\\n    var input = document.getElementById(\"search\");\\n    input.value = get_url_param(\"search\");\\n    input.addEventListener(\"keyup\", function(event) {\\n        event.preventDefault();\\n        if (event.keyCode === 13) {\\n            document.location.href = \\'?search=\\' + document.getElementById(\"search\").value;\\n        }\\n    });\\n</script>\\n\\n\\n<div class=\"ui grid container\">\\n    <div class=\"ui centered sixteen wide tablet ten wide computer column\">\\n        \\n        <div class=\"ui divided items\">\\n            \\n            <div class=\"item\">\\n                <div class=\"content\">\\n                    <a href=\"/spotted/view_spotted/109959/\" class=\"header\">Spotted #109959</a>\\n                    <div class=\"meta\">\\n                        11 de Abril de 2020 às 09:23\\n                    </div>\\n                    <div class=\"description\">\\n                        <p>\\n                            Juliana Lopes você é muito gata e gente fina. Quando fiquei feliz em descobrir que vc tava na minha sala as aulas foram suspensas. Como proceder? O corona acabou com qualquer chance que eu tinha\\n                        </p>\\n                    </div>\\n                    <div class=\"extra\">\\n                        \\n                        \\n                        <div class=\"ui label pink small\">\\n                            <i class=\"key icon\"></i>\\n                            Tem autor\\n                        </div>\\n                        \\n                        \\n                        <div class=\"ui label red small\">\\n                            <i class=\"heart icon\"></i>\\n                            Tem crush\\n                        </div>\\n                        \\n                    </div>\\n                    <div class=\"mobile hidden\">\\n                        <div class=\"extra\">\\n                            <a href=\"/spotted/view_spotted/109959/\">\\n                                <div class=\"ui green left floated labeled icon button\">\\n                                    <i class=\"envelope open icon\"></i>\\n                                    Ver detalhes\\n                                </div>\\n                            </a>\\n                            <a href=\"https://facebook.com/183181388525237_1596541610522534\">\\n                                <div class=\"ui blue right floated labeled icon button\">\\n                                    <i class=\"facebook icon\"></i>\\n                                    Ver no Facebook\\n                                </div>\\n                            </a>\\n                        </div>\\n                    </div>\\n                    <div class=\"mobile only\">\\n                        <div class=\"extra\">\\n                            <a href=\"/spotted/view_spotted/109959/\">\\n                                <div class=\"ui green left floated button tiny\">\\n                                    Ver detalhes\\n                                </div>\\n                            </a>\\n                            <a href=\"https://facebook.com/183181388525237_1596541610522534\">\\n                                <div class=\"ui blue right floated button tiny\">\\n                                    Ver no Facebook\\n                                </div>\\n                            </a>\\n                        </div>\\n                    </div>\\n                </div>\\n            </div>\\n            \\n            <div class=\"item\">\\n                <div class=\"content\">\\n                    <a href=\"/spotted/view_spotted/109958/\" class=\"header\">Spotted #109958</a>\\n                    <div class=\"meta\">\\n                        10 de Abril de 2020 às 12:07\\n                    </div>\\n                    <div class=\"description\">\\n                        <p>\\n                            Como que faço pra resistir à tentação de chamar aquela pessoa que gosto mas não tá nem aí pra mim? Dói tanto ser rejeitado por alguém que tive tão boas conversas um dia... A dor de &quot;quase&quot; ter rolado alguma coisa é foda... E ela parece um anjo...\\n                        </p>\\n                    </div>\\n                    <div class=\"extra\">\\n                        \\n                        \\n                        <div class=\"ui label pink small\">\\n                            <i class=\"key icon\"></i>\\n                            Tem autor\\n                        </div>\\n                        \\n                        \\n                    </div>\\n                    <div class=\"mobile hidden\">\\n                        <div class=\"extra\">\\n                            <a href=\"/spotted/view_spotted/109958/\">\\n                                <div class=\"ui green left floated labeled icon button\">\\n                                    <i class=\"envelope open icon\"></i>\\n                                    Ver detalhes\\n                                </div>\\n                            </a>\\n                            <a href=\"https://facebook.com/183181388525237_1595744030602292\">\\n                                <div class=\"ui blue right floated labeled icon button\">\\n                                    <i class=\"facebook icon\"></i>\\n                                    Ver no Facebook\\n                                </div>\\n                            </a>\\n                        </div>\\n                    </div>\\n                    <div class=\"mobile only\">\\n                        <div class=\"extra\">\\n                            <a href=\"/spotted/view_spotted/109958/\">\\n                                <div class=\"ui green left floated button tiny\">\\n                                    Ver detalhes\\n                                </div>\\n                            </a>\\n                            <a href=\"https://facebook.com/183181388525237_1595744030602292\">\\n                                <div class=\"ui blue right floated button tiny\">\\n                                    Ver no Facebook\\n                                </div>\\n                            </a>\\n                        </div>\\n                    </div>\\n                </div>\\n            </div>\\n            \\n            <div class=\"item\">\\n                <div class=\"content\">\\n                    <a href=\"/spotted/view_spotted/109957/\" class=\"header\">Spotted #109957</a>\\n                    <div class=\"meta\">\\n                        10 de Abril de 2020 às 12:07\\n                    </div>\\n                    <div class=\"description\">\\n                        <p>\\n                            É certo jogar tudo fora por causa de um erro pequeno?\\n                        </p>\\n                    </div>\\n                    <div class=\"extra\">\\n                        \\n                        \\n                        <div class=\"ui label pink small\">\\n                            <i class=\"key icon\"></i>\\n                            Tem autor\\n                        </div>\\n                        \\n                        \\n                    </div>\\n                    <div class=\"mobile hidden\">\\n                        <div class=\"extra\">\\n                            <a href=\"/spotted/view_spotted/109957/\">\\n                                <div class=\"ui green left floated labeled icon button\">\\n                                    <i class=\"envelope open icon\"></i>\\n                                    Ver detalhes\\n                                </div>\\n                            </a>\\n                            <a href=\"https://facebook.com/183181388525237_1595743863935642\">\\n                                <div class=\"ui blue right floated labeled icon button\">\\n                                    <i class=\"facebook icon\"></i>\\n                                    Ver no Facebook\\n                                </div>\\n                            </a>\\n                        </div>\\n                    </div>\\n                    <div class=\"mobile only\">\\n                        <div class=\"extra\">\\n                            <a href=\"/spotted/view_spotted/109957/\">\\n                                <div class=\"ui green left floated button tiny\">\\n                                    Ver detalhes\\n                                </div>\\n                            </a>\\n                            <a href=\"https://facebook.com/183181388525237_1595743863935642\">\\n                                <div class=\"ui blue right floated button tiny\">\\n                                    Ver no Facebook\\n                                </div>\\n                            </a>\\n                        </div>\\n                    </div>\\n                </div>\\n            </div>\\n            \\n            <div class=\"item\">\\n                <div class=\"content\">\\n                    <a href=\"/spotted/view_spotted/109956/\" class=\"header\">Spotted #109956</a>\\n                    <div class=\"meta\">\\n                        10 de Abril de 2020 às 12:07\\n                    </div>\\n                    <div class=\"description\">\\n                        <p>\\n                            Venho por meio desse spotted pra enaltecer meu amigo Pedro Rissardi que é um amigo FANTÁSTICO s2 E que independente da hora ou do que eu to sentindo ou mesmo se eu mando &quot;Pedrooo ele foi babaca comigo&quot; você sempre tá lá pra me apoiar ou pra falar mal do ...\\n                        </p>\\n                    </div>\\n                    <div class=\"extra\">\\n                        \\n                        \\n                        <div class=\"ui label pink small\">\\n                            <i class=\"key icon\"></i>\\n                            Tem autor\\n                        </div>\\n                        \\n                        \\n                    </div>\\n                    <div class=\"mobile hidden\">\\n                        <div class=\"extra\">\\n                            <a href=\"/spotted/view_spotted/109956/\">\\n                                <div class=\"ui green left floated labeled icon button\">\\n                                    <i class=\"envelope open icon\"></i>\\n                                    Ver detalhes\\n                                </div>\\n                            </a>\\n                            <a href=\"https://facebook.com/183181388525237_1595743807268981\">\\n                                <div class=\"ui blue right floated labeled icon button\">\\n                                    <i class=\"facebook icon\"></i>\\n                                    Ver no Facebook\\n                                </div>\\n                            </a>\\n                        </div>\\n                    </div>\\n                    <div class=\"mobile only\">\\n                        <div class=\"extra\">\\n                            <a href=\"/spotted/view_spotted/109956/\">\\n                                <div class=\"ui green left floated button tiny\">\\n                                    Ver detalhes\\n                                </div>\\n                            </a>\\n                            <a href=\"https://facebook.com/183181388525237_1595743807268981\">\\n                                <div class=\"ui blue right floated button tiny\">\\n                                    Ver no Facebook\\n                                </div>\\n                            </a>\\n                        </div>\\n                    </div>\\n                </div>\\n            </div>\\n            \\n            <div class=\"item\">\\n                <div class=\"content\">\\n                    <a href=\"/spotted/view_spotted/109955/\" class=\"header\">Spotted #109955</a>\\n                    <div class=\"meta\">\\n                        10 de Abril de 2020 às 12:06\\n                    </div>\\n                    <div class=\"description\">\\n                        <p>\\n                            Vocês ficariam com uma pessoa demissexual? Como lidariam com essa informação? Sinto que as pessoas se sentem desconfortáveis quando falo disso :/\\n                        </p>\\n                    </div>\\n                    <div class=\"extra\">\\n                        \\n                        \\n                        \\n                    </div>\\n                    <div class=\"mobile hidden\">\\n                        <div class=\"extra\">\\n                            <a href=\"/spotted/view_spotted/109955/\">\\n                                <div class=\"ui green left floated labeled icon button\">\\n                                    <i class=\"envelope open icon\"></i>\\n                                    Ver detalhes\\n                                </div>\\n                            </a>\\n                            <a href=\"https://facebook.com/183181388525237_1595743413935687\">\\n                                <div class=\"ui blue right floated labeled icon button\">\\n                                    <i class=\"facebook icon\"></i>\\n                                    Ver no Facebook\\n                                </div>\\n                            </a>\\n                        </div>\\n                    </div>\\n                    <div class=\"mobile only\">\\n                        <div class=\"extra\">\\n                            <a href=\"/spotted/view_spotted/109955/\">\\n                                <div class=\"ui green left floated button tiny\">\\n                                    Ver detalhes\\n                                </div>\\n                            </a>\\n                            <a href=\"https://facebook.com/183181388525237_1595743413935687\">\\n                                <div class=\"ui blue right floated button tiny\">\\n                                    Ver no Facebook\\n                                </div>\\n                            </a>\\n                        </div>\\n                    </div>\\n                </div>\\n            </div>\\n            \\n            <div class=\"item\">\\n                <div class=\"content\">\\n                    <a href=\"/spotted/view_spotted/109954/\" class=\"header\">Spotted #109954</a>\\n                    <div class=\"meta\">\\n                        10 de Abril de 2020 às 12:06\\n                    </div>\\n                    <div class=\"description\">\\n                        <p>\\n                            vai, saudade diz pra ela, diz pra ela aparecer. vai, saudade, vê se troca a minha solidão por ela... escutando essa bela canção enquanto lembro do jefferson da física e da cor que os olhos dele ficavam quando batia sol no lugar que a gente sentava no RS\\n                        </p>\\n                    </div>\\n                    <div class=\"extra\">\\n                        \\n                        \\n                        \\n                    </div>\\n                    <div class=\"mobile hidden\">\\n                        <div class=\"extra\">\\n                            <a href=\"/spotted/view_spotted/109954/\">\\n                                <div class=\"ui green left floated labeled icon button\">\\n                                    <i class=\"envelope open icon\"></i>\\n                                    Ver detalhes\\n                                </div>\\n                            </a>\\n                            <a href=\"https://facebook.com/183181388525237_1595743383935690\">\\n                                <div class=\"ui blue right floated labeled icon button\">\\n                                    <i class=\"facebook icon\"></i>\\n                                    Ver no Facebook\\n                                </div>\\n                            </a>\\n                        </div>\\n                    </div>\\n                    <div class=\"mobile only\">\\n                        <div class=\"extra\">\\n                            <a href=\"/spotted/view_spotted/109954/\">\\n                                <div class=\"ui green left floated button tiny\">\\n                                    Ver detalhes\\n                                </div>\\n                            </a>\\n                            <a href=\"https://facebook.com/183181388525237_1595743383935690\">\\n                                <div class=\"ui blue right floated button tiny\">\\n                                    Ver no Facebook\\n                                </div>\\n                            </a>\\n                        </div>\\n                    </div>\\n                </div>\\n            </div>\\n            \\n            <div class=\"item\">\\n                <div class=\"content\">\\n                    <a href=\"/spotted/view_spotted/109953/\" class=\"header\">Spotted #109953</a>\\n                    <div class=\"meta\">\\n                        10 de Abril de 2020 às 12:06\\n                    </div>\\n                    <div class=\"description\">\\n                        <p>\\n                            Poooxa spotted Eu só quero deixar claro meu amor pelo leo da med, ta difícil não ver vc na faculdade\\n                        </p>\\n                    </div>\\n                    <div class=\"extra\">\\n                        \\n                        \\n                        \\n                    </div>\\n                    <div class=\"mobile hidden\">\\n                        <div class=\"extra\">\\n                            <a href=\"/spotted/view_spotted/109953/\">\\n                                <div class=\"ui green left floated labeled icon button\">\\n                                    <i class=\"envelope open icon\"></i>\\n                                    Ver detalhes\\n                                </div>\\n                            </a>\\n                            <a href=\"https://facebook.com/183181388525237_1595742887269073\">\\n                                <div class=\"ui blue right floated labeled icon button\">\\n                                    <i class=\"facebook icon\"></i>\\n                                    Ver no Facebook\\n                                </div>\\n                            </a>\\n                        </div>\\n                    </div>\\n                    <div class=\"mobile only\">\\n                        <div class=\"extra\">\\n                            <a href=\"/spotted/view_spotted/109953/\">\\n                                <div class=\"ui green left floated button tiny\">\\n                                    Ver detalhes\\n                                </div>\\n                            </a>\\n                            <a href=\"https://facebook.com/183181388525237_1595742887269073\">\\n                                <div class=\"ui blue right floated button tiny\">\\n                                    Ver no Facebook\\n                                </div>\\n                            </a>\\n                        </div>\\n                    </div>\\n                </div>\\n            </div>\\n            \\n            <div class=\"item\">\\n                <div class=\"content\">\\n                    <a href=\"/spotted/view_spotted/109952/\" class=\"header\">Spotted #109952</a>\\n                    <div class=\"meta\">\\n                        10 de Abril de 2020 às 12:06\\n                    </div>\\n                    <div class=\"description\">\\n                        <p>\\n                            Eu sou a pessoa mais flopada que existe. Se estivesse no the circle estaria com certeza no chat dos flopados todas as vezes. Sinto que ngm me respeita ou se importa com o que eu falo. Triste, but, verdade.\\n                        </p>\\n                    </div>\\n                    <div class=\"extra\">\\n                        \\n                        \\n                        <div class=\"ui label pink small\">\\n                            <i class=\"key icon\"></i>\\n                            Tem autor\\n                        </div>\\n                        \\n                        \\n                    </div>\\n                    <div class=\"mobile hidden\">\\n                        <div class=\"extra\">\\n                            <a href=\"/spotted/view_spotted/109952/\">\\n                                <div class=\"ui green left floated labeled icon button\">\\n                                    <i class=\"envelope open icon\"></i>\\n                                    Ver detalhes\\n                                </div>\\n                            </a>\\n                            <a href=\"https://facebook.com/183181388525237_1595742847269077\">\\n                                <div class=\"ui blue right floated labeled icon button\">\\n                                    <i class=\"facebook icon\"></i>\\n                                    Ver no Facebook\\n                                </div>\\n                            </a>\\n                        </div>\\n                    </div>\\n                    <div class=\"mobile only\">\\n                        <div class=\"extra\">\\n                            <a href=\"/spotted/view_spotted/109952/\">\\n                                <div class=\"ui green left floated button tiny\">\\n                                    Ver detalhes\\n                                </div>\\n                            </a>\\n                            <a href=\"https://facebook.com/183181388525237_1595742847269077\">\\n                                <div class=\"ui blue right floated button tiny\">\\n                                    Ver no Facebook\\n                                </div>\\n                            </a>\\n                        </div>\\n                    </div>\\n                </div>\\n            </div>\\n            \\n            <div class=\"item\">\\n                <div class=\"content\">\\n                    <a href=\"/spotted/view_spotted/109951/\" class=\"header\">Spotted #109951</a>\\n                    <div class=\"meta\">\\n                        10 de Abril de 2020 às 12:05\\n                    </div>\\n                    <div class=\"description\">\\n                        <p>\\n                            Nathalia Sheila do IG, se eu pegar coronga vc vem me ver????\\n                        </p>\\n                    </div>\\n                    <div class=\"extra\">\\n                        \\n                        \\n                        \\n                    </div>\\n                    <div class=\"mobile hidden\">\\n                        <div class=\"extra\">\\n                            <a href=\"/spotted/view_spotted/109951/\">\\n                                <div class=\"ui green left floated labeled icon button\">\\n                                    <i class=\"envelope open icon\"></i>\\n                                    Ver detalhes\\n                                </div>\\n                            </a>\\n                            <a href=\"https://facebook.com/183181388525237_1595742733935755\">\\n                                <div class=\"ui blue right floated labeled icon button\">\\n                                    <i class=\"facebook icon\"></i>\\n                                    Ver no Facebook\\n                                </div>\\n                            </a>\\n                        </div>\\n                    </div>\\n                    <div class=\"mobile only\">\\n                        <div class=\"extra\">\\n                            <a href=\"/spotted/view_spotted/109951/\">\\n                                <div class=\"ui green left floated button tiny\">\\n                                    Ver detalhes\\n                                </div>\\n                            </a>\\n                            <a href=\"https://facebook.com/183181388525237_1595742733935755\">\\n                                <div class=\"ui blue right floated button tiny\">\\n                                    Ver no Facebook\\n                                </div>\\n                            </a>\\n                        </div>\\n                    </div>\\n                </div>\\n            </div>\\n            \\n            <div class=\"item\">\\n                <div class=\"content\">\\n                    <a href=\"/spotted/view_spotted/109950/\" class=\"header\">Spotted #109950</a>\\n                    <div class=\"meta\">\\n                        10 de Abril de 2020 às 12:04\\n                    </div>\\n                    <div class=\"description\">\\n                        <p>\\n                            Lobo, ta difícil não ver vc naquela faculdade\\n                        </p>\\n                    </div>\\n                    <div class=\"extra\">\\n                        \\n                        \\n                        \\n                    </div>\\n                    <div class=\"mobile hidden\">\\n                        <div class=\"extra\">\\n                            <a href=\"/spotted/view_spotted/109950/\">\\n                                <div class=\"ui green left floated labeled icon button\">\\n                                    <i class=\"envelope open icon\"></i>\\n                                    Ver detalhes\\n                                </div>\\n                            </a>\\n                            <a href=\"https://facebook.com/183181388525237_1595742093935819\">\\n                                <div class=\"ui blue right floated labeled icon button\">\\n                                    <i class=\"facebook icon\"></i>\\n                                    Ver no Facebook\\n                                </div>\\n                            </a>\\n                        </div>\\n                    </div>\\n                    <div class=\"mobile only\">\\n                        <div class=\"extra\">\\n                            <a href=\"/spotted/view_spotted/109950/\">\\n                                <div class=\"ui green left floated button tiny\">\\n                                    Ver detalhes\\n                                </div>\\n                            </a>\\n                            <a href=\"https://facebook.com/183181388525237_1595742093935819\">\\n                                <div class=\"ui blue right floated button tiny\">\\n                                    Ver no Facebook\\n                                </div>\\n                            </a>\\n                        </div>\\n                    </div>\\n                </div>\\n            </div>\\n            \\n        </div>\\n        \\n        <div class=\"ui horizontal divider\">Página 1 de 5912</div>\\n        <div class=\"mobile hidden\">\\n            \\n            \\n            <a onclick=\"go_to_page(2)\">\\n                <button class=\"ui right floated right labeled icon button\">\\n                    <i class=\"right arrow icon\"></i>\\n                    Próxima página\\n                </button>\\n            </a>\\n            \\n        </div>\\n        <div class=\"mobile only\">\\n            \\n            \\n            <a onclick=\"go_to_page(2)\">\\n                <button class=\"ui right floated right button small\">\\n                    Próxima página\\n                </button>\\n            </a>\\n            \\n        </div>\\n        \\n    </div>\\n</div>\\n\\n</div>\\n\\n\\n\\t</div>\\n\\t<script type=\"text/javascript\">\\n\\t\\tvar csrf = \"6vk2pRnl3SDQOwJaZlzZOFjmixCYKf5lhIMBVHY0XmjUlkBqgVoDtqELq8mduI33\";\\n\\t\\tvar get_nag_message_url = \"/get_nag/\";\\n\\t\\tvar update_nag_message_url = \"/update_nag/\";\\n\\t</script>\\n\\t<script type=\"text/javascript\" src=\"/static/main/js/news_notification.aa09a1c7d317.js\"></script>\\n\\t\\n</body>\\n</html>\\n'"
            ]
          },
          "metadata": {
            "tags": []
          },
          "execution_count": 4
        }
      ]
    },
    {
      "cell_type": "code",
      "metadata": {
        "id": "xaXtZcVA_mDv",
        "colab_type": "code",
        "outputId": "719273f3-9d9d-4acf-c7a0-ca67fef7599d",
        "colab": {
          "base_uri": "https://localhost:8080/",
          "height": 207
        }
      },
      "source": [
        "# celula para achar os spotteds\n",
        "soup = BeautifulSoup(get_site.text)\n",
        "l = list(map(str, soup.findAll(\"div\", {\"class\":\"description\"})))\n",
        "l"
      ],
      "execution_count": 0,
      "outputs": [
        {
          "output_type": "execute_result",
          "data": {
            "text/plain": [
              "['<div class=\"description\">\\n<p>\\n                            Juliana Lopes você é muito gata e gente fina. Quando fiquei feliz em descobrir que vc tava na minha sala as aulas foram suspensas. Como proceder? O corona acabou com qualquer chance que eu tinha\\n                        </p>\\n</div>',\n",
              " '<div class=\"description\">\\n<p>\\n                            Como que faço pra resistir à tentação de chamar aquela pessoa que gosto mas não tá nem aí pra mim? Dói tanto ser rejeitado por alguém que tive tão boas conversas um dia... A dor de \"quase\" ter rolado alguma coisa é foda... E ela parece um anjo...\\n                        </p>\\n</div>',\n",
              " '<div class=\"description\">\\n<p>\\n                            É certo jogar tudo fora por causa de um erro pequeno?\\n                        </p>\\n</div>',\n",
              " '<div class=\"description\">\\n<p>\\n                            Venho por meio desse spotted pra enaltecer meu amigo Pedro Rissardi que é um amigo FANTÁSTICO s2 E que independente da hora ou do que eu to sentindo ou mesmo se eu mando \"Pedrooo ele foi babaca comigo\" você sempre tá lá pra me apoiar ou pra falar mal do ...\\n                        </p>\\n</div>',\n",
              " '<div class=\"description\">\\n<p>\\n                            Vocês ficariam com uma pessoa demissexual? Como lidariam com essa informação? Sinto que as pessoas se sentem desconfortáveis quando falo disso :/\\n                        </p>\\n</div>',\n",
              " '<div class=\"description\">\\n<p>\\n                            vai, saudade diz pra ela, diz pra ela aparecer. vai, saudade, vê se troca a minha solidão por ela... escutando essa bela canção enquanto lembro do jefferson da física e da cor que os olhos dele ficavam quando batia sol no lugar que a gente sentava no RS\\n                        </p>\\n</div>',\n",
              " '<div class=\"description\">\\n<p>\\n                            Poooxa spotted Eu só quero deixar claro meu amor pelo leo da med, ta difícil não ver vc na faculdade\\n                        </p>\\n</div>',\n",
              " '<div class=\"description\">\\n<p>\\n                            Eu sou a pessoa mais flopada que existe. Se estivesse no the circle estaria com certeza no chat dos flopados todas as vezes. Sinto que ngm me respeita ou se importa com o que eu falo. Triste, but, verdade.\\n                        </p>\\n</div>',\n",
              " '<div class=\"description\">\\n<p>\\n                            Nathalia Sheila do IG, se eu pegar coronga vc vem me ver????\\n                        </p>\\n</div>',\n",
              " '<div class=\"description\">\\n<p>\\n                            Lobo, ta difícil não ver vc naquela faculdade\\n                        </p>\\n</div>']"
            ]
          },
          "metadata": {
            "tags": []
          },
          "execution_count": 5
        }
      ]
    },
    {
      "cell_type": "code",
      "metadata": {
        "id": "Pn1Zj5R_CZ8w",
        "colab_type": "code",
        "colab": {}
      },
      "source": [
        "# edico dos spotteds de uma pagina para só termos os textos sem a formatacao de html\n",
        "\n",
        "spotteds = []\n",
        "for i in l: \n",
        "  spotteds.append(i.replace(\"\"\"<div class=\"description\">\\n<p>\"\"\", \"\").replace(\"</p>\", \"\").replace(\"</div>\", \"\").replace(\"\\n                        \\n\", \"\").replace(\"\\n                            \", \"\"))\n",
        "spotteds"
      ],
      "execution_count": 0,
      "outputs": []
    },
    {
      "cell_type": "markdown",
      "metadata": {
        "id": "4dB-Xq_vC34D",
        "colab_type": "text"
      },
      "source": [
        "## Atribuição das páginas para cada pessoa"
      ]
    },
    {
      "cell_type": "code",
      "metadata": {
        "colab_type": "code",
        "id": "9Qe7l3TSlp2L",
        "colab": {}
      },
      "source": [
        ""
      ],
      "execution_count": 0,
      "outputs": []
    },
    {
      "cell_type": "code",
      "metadata": {
        "id": "ulHzXHLACadE",
        "colab_type": "code",
        "outputId": "7a1e4463-b9ca-4e25-8ac8-41feef7c56b9",
        "colab": {
          "base_uri": "https://localhost:8080/",
          "height": 204
        }
      },
      "source": [
        "(5910/11)*5\n",
        "for i in range(1, 12):\n",
        "  print((5910/11)*i)"
      ],
      "execution_count": 0,
      "outputs": [
        {
          "output_type": "stream",
          "text": [
            "537.2727272727273\n",
            "1074.5454545454545\n",
            "1611.8181818181818\n",
            "2149.090909090909\n",
            "2686.363636363636\n",
            "3223.6363636363635\n",
            "3760.909090909091\n",
            "4298.181818181818\n",
            "4835.454545454545\n",
            "5372.727272727272\n",
            "5910.0\n"
          ],
          "name": "stdout"
        }
      ]
    },
    {
      "cell_type": "code",
      "metadata": {
        "id": "DeSs_G3S-8hT",
        "colab_type": "code",
        "outputId": "67e48883-2f01-434e-bf46-9515c15e15e9",
        "colab": {
          "base_uri": "https://localhost:8080/",
          "height": 204
        }
      },
      "source": [
        "# adicionei essa celula(não tem na aula gravada)\n",
        "# Ela serve para automatizar o print das páginas para cada pessoa, na aula fiz na mão mas daria para fazer dessa forma tbm\n",
        "# Se tiverem dúvida nessa célula posso abordar da próxima aula ou podem perguntar no grupo\n",
        "\n",
        "nomes = [\"Baralho\", \"Andreis\", \"Paulo\", \"Fernanda\", \"Gabriel\", \"Vinicius\", \"Antonio\", \"Lucca\", \"Pedro\", \"Mariana\", \"Mateus\"]\n",
        "inicial = 1\n",
        "for i in range (1, 12):\n",
        "  val = (5910/11)*i\n",
        "  print(\"{} = {} - {}\".format(nomes[i-1], int(inicial), int(val)))\n",
        "  inicial = val + 1"
      ],
      "execution_count": 0,
      "outputs": [
        {
          "output_type": "stream",
          "text": [
            "Baralho = 1 - 537\n",
            "Andreis = 538 - 1074\n",
            "Paulo = 1075 - 1611\n",
            "Fernanda = 1612 - 2149\n",
            "Gabriel = 2150 - 2686\n",
            "Vinicius = 2687 - 3223\n",
            "Antonio = 3224 - 3760\n",
            "Lucca = 3761 - 4298\n",
            "Pedro = 4299 - 4835\n",
            "Mariana = 4836 - 5372\n",
            "Mateus = 5373 - 5910\n"
          ],
          "name": "stdout"
        }
      ]
    },
    {
      "cell_type": "markdown",
      "metadata": {
        "id": "v5gW09WgGjZ_",
        "colab_type": "text"
      },
      "source": [
        "Baralho = 1 - 537\n",
        "\n",
        "Andreis = 538 - 1074\n",
        "\n",
        "Paulo = 1075 - 1611\n",
        "\n",
        "Fernanda = 1612 - 2149\n",
        "\n",
        "Gabriel = 2150 - 2686\n",
        "\n",
        "Vinicius = 2687 - 3223\n",
        "\n",
        "Antonio = 3224 - 3760\n",
        "\n",
        "Lucca = 3761 - 4298\n",
        "\n",
        "Pedro = 4299 - 4835\n",
        "\n",
        "Mariana = 4836 - 5372\n",
        "\n",
        "Mateus = 5373 - 5910\n"
      ]
    },
    {
      "cell_type": "markdown",
      "metadata": {
        "id": "awlGQwXqDwF5",
        "colab_type": "text"
      },
      "source": [
        "## Formatação dos dados para csv"
      ]
    },
    {
      "cell_type": "code",
      "metadata": {
        "id": "9tUqb8ONIU8n",
        "colab_type": "code",
        "outputId": "e06536bc-648a-46d8-bb65-27fba2184199",
        "colab": {
          "base_uri": "https://localhost:8080/",
          "height": 390
        }
      },
      "source": [
        "# criacao de um dataframe e indexacao de informacoes \n",
        "\n",
        "df = pd.DataFrame(columns=[\"Nomes\"])\n",
        "\n",
        "nomes = [\"Baralho\", \"Andreis\", \"Paulo\", \"Fernanda\", \"Gabriel\", \"Vinicius\", \"Antonio\", \"Lucca\", \"Pedro\", \"Mariana\", \"Mateus\"]\n",
        "\n",
        "for i in nomes:\n",
        "  df = df.append({\"Nomes\":i}, ignore_index=True)\n",
        "\n",
        "df"
      ],
      "execution_count": 0,
      "outputs": [
        {
          "output_type": "execute_result",
          "data": {
            "text/html": [
              "<div>\n",
              "<style scoped>\n",
              "    .dataframe tbody tr th:only-of-type {\n",
              "        vertical-align: middle;\n",
              "    }\n",
              "\n",
              "    .dataframe tbody tr th {\n",
              "        vertical-align: top;\n",
              "    }\n",
              "\n",
              "    .dataframe thead th {\n",
              "        text-align: right;\n",
              "    }\n",
              "</style>\n",
              "<table border=\"1\" class=\"dataframe\">\n",
              "  <thead>\n",
              "    <tr style=\"text-align: right;\">\n",
              "      <th></th>\n",
              "      <th>Nomes</th>\n",
              "    </tr>\n",
              "  </thead>\n",
              "  <tbody>\n",
              "    <tr>\n",
              "      <th>0</th>\n",
              "      <td>Baralho</td>\n",
              "    </tr>\n",
              "    <tr>\n",
              "      <th>1</th>\n",
              "      <td>Andreis</td>\n",
              "    </tr>\n",
              "    <tr>\n",
              "      <th>2</th>\n",
              "      <td>Paulo</td>\n",
              "    </tr>\n",
              "    <tr>\n",
              "      <th>3</th>\n",
              "      <td>Fernanda</td>\n",
              "    </tr>\n",
              "    <tr>\n",
              "      <th>4</th>\n",
              "      <td>Gabriel</td>\n",
              "    </tr>\n",
              "    <tr>\n",
              "      <th>5</th>\n",
              "      <td>Vinicius</td>\n",
              "    </tr>\n",
              "    <tr>\n",
              "      <th>6</th>\n",
              "      <td>Antonio</td>\n",
              "    </tr>\n",
              "    <tr>\n",
              "      <th>7</th>\n",
              "      <td>Lucca</td>\n",
              "    </tr>\n",
              "    <tr>\n",
              "      <th>8</th>\n",
              "      <td>Pedro</td>\n",
              "    </tr>\n",
              "    <tr>\n",
              "      <th>9</th>\n",
              "      <td>Mariana</td>\n",
              "    </tr>\n",
              "    <tr>\n",
              "      <th>10</th>\n",
              "      <td>Mateus</td>\n",
              "    </tr>\n",
              "  </tbody>\n",
              "</table>\n",
              "</div>"
            ],
            "text/plain": [
              "       Nomes\n",
              "0    Baralho\n",
              "1    Andreis\n",
              "2      Paulo\n",
              "3   Fernanda\n",
              "4    Gabriel\n",
              "5   Vinicius\n",
              "6    Antonio\n",
              "7      Lucca\n",
              "8      Pedro\n",
              "9    Mariana\n",
              "10    Mateus"
            ]
          },
          "metadata": {
            "tags": []
          },
          "execution_count": 8
        }
      ]
    },
    {
      "cell_type": "code",
      "metadata": {
        "id": "pnLA1pz3KedU",
        "colab_type": "code",
        "colab": {}
      },
      "source": [
        "#criando um arquivo para guardarmos as informacoes\n",
        "\n",
        "f = open(\"Nomes.csv\", \"a+\")\n",
        "f.write(df.to_csv(index=False))\n",
        "f.close()"
      ],
      "execution_count": 0,
      "outputs": []
    },
    {
      "cell_type": "code",
      "metadata": {
        "id": "4GCuAlrLLUsH",
        "colab_type": "code",
        "outputId": "46c4e5ab-5e2f-46e5-aafd-cdc5b1fc483f",
        "colab": {
          "base_uri": "https://localhost:8080/",
          "height": 390
        }
      },
      "source": [
        "# lendo as informacoes guardadas\n",
        "\n",
        "df = pd.read_csv(\"Nomes.csv\")\n",
        "df"
      ],
      "execution_count": 0,
      "outputs": [
        {
          "output_type": "execute_result",
          "data": {
            "text/html": [
              "<div>\n",
              "<style scoped>\n",
              "    .dataframe tbody tr th:only-of-type {\n",
              "        vertical-align: middle;\n",
              "    }\n",
              "\n",
              "    .dataframe tbody tr th {\n",
              "        vertical-align: top;\n",
              "    }\n",
              "\n",
              "    .dataframe thead th {\n",
              "        text-align: right;\n",
              "    }\n",
              "</style>\n",
              "<table border=\"1\" class=\"dataframe\">\n",
              "  <thead>\n",
              "    <tr style=\"text-align: right;\">\n",
              "      <th></th>\n",
              "      <th>Nomes</th>\n",
              "    </tr>\n",
              "  </thead>\n",
              "  <tbody>\n",
              "    <tr>\n",
              "      <th>0</th>\n",
              "      <td>Baralho</td>\n",
              "    </tr>\n",
              "    <tr>\n",
              "      <th>1</th>\n",
              "      <td>Andreis</td>\n",
              "    </tr>\n",
              "    <tr>\n",
              "      <th>2</th>\n",
              "      <td>Paulo</td>\n",
              "    </tr>\n",
              "    <tr>\n",
              "      <th>3</th>\n",
              "      <td>Fernanda</td>\n",
              "    </tr>\n",
              "    <tr>\n",
              "      <th>4</th>\n",
              "      <td>Gabriel</td>\n",
              "    </tr>\n",
              "    <tr>\n",
              "      <th>5</th>\n",
              "      <td>Vinicius</td>\n",
              "    </tr>\n",
              "    <tr>\n",
              "      <th>6</th>\n",
              "      <td>Antonio</td>\n",
              "    </tr>\n",
              "    <tr>\n",
              "      <th>7</th>\n",
              "      <td>Lucca</td>\n",
              "    </tr>\n",
              "    <tr>\n",
              "      <th>8</th>\n",
              "      <td>Pedro</td>\n",
              "    </tr>\n",
              "    <tr>\n",
              "      <th>9</th>\n",
              "      <td>Mariana</td>\n",
              "    </tr>\n",
              "    <tr>\n",
              "      <th>10</th>\n",
              "      <td>Mateus</td>\n",
              "    </tr>\n",
              "  </tbody>\n",
              "</table>\n",
              "</div>"
            ],
            "text/plain": [
              "       Nomes\n",
              "0    Baralho\n",
              "1    Andreis\n",
              "2      Paulo\n",
              "3   Fernanda\n",
              "4    Gabriel\n",
              "5   Vinicius\n",
              "6    Antonio\n",
              "7      Lucca\n",
              "8      Pedro\n",
              "9    Mariana\n",
              "10    Mateus"
            ]
          },
          "metadata": {
            "tags": []
          },
          "execution_count": 10
        }
      ]
    },
    {
      "cell_type": "code",
      "metadata": {
        "id": "Wj9De5b5MkZz",
        "colab_type": "code",
        "outputId": "7f121ada-9bf4-44be-b8c0-9b2717469168",
        "colab": {
          "base_uri": "https://localhost:8080/",
          "height": 390
        }
      },
      "source": [
        "# exemplo de como vai acabar sendo a requisicao dos spotteds em varias paginas\n",
        "\n",
        "names = pd.DataFrame(columns=[\"Names\"])\n",
        "nomes = [[\"Baralho\", \"Andreis\", \"Paulo\"], [\"Fernanda\", \"Gabriel\", \"Vinicius\"], [\"Antonio\", \"Lucca\", \"Pedro\", \"Mariana\", \"Mateus\"]]\n",
        "for i in nomes:\n",
        "  for l in i:\n",
        "    names = names.append({\"Names\":l},ignore_index=True)\n",
        "\n",
        "names"
      ],
      "execution_count": 0,
      "outputs": [
        {
          "output_type": "execute_result",
          "data": {
            "text/html": [
              "<div>\n",
              "<style scoped>\n",
              "    .dataframe tbody tr th:only-of-type {\n",
              "        vertical-align: middle;\n",
              "    }\n",
              "\n",
              "    .dataframe tbody tr th {\n",
              "        vertical-align: top;\n",
              "    }\n",
              "\n",
              "    .dataframe thead th {\n",
              "        text-align: right;\n",
              "    }\n",
              "</style>\n",
              "<table border=\"1\" class=\"dataframe\">\n",
              "  <thead>\n",
              "    <tr style=\"text-align: right;\">\n",
              "      <th></th>\n",
              "      <th>Names</th>\n",
              "    </tr>\n",
              "  </thead>\n",
              "  <tbody>\n",
              "    <tr>\n",
              "      <th>0</th>\n",
              "      <td>Baralho</td>\n",
              "    </tr>\n",
              "    <tr>\n",
              "      <th>1</th>\n",
              "      <td>Andreis</td>\n",
              "    </tr>\n",
              "    <tr>\n",
              "      <th>2</th>\n",
              "      <td>Paulo</td>\n",
              "    </tr>\n",
              "    <tr>\n",
              "      <th>3</th>\n",
              "      <td>Fernanda</td>\n",
              "    </tr>\n",
              "    <tr>\n",
              "      <th>4</th>\n",
              "      <td>Gabriel</td>\n",
              "    </tr>\n",
              "    <tr>\n",
              "      <th>5</th>\n",
              "      <td>Vinicius</td>\n",
              "    </tr>\n",
              "    <tr>\n",
              "      <th>6</th>\n",
              "      <td>Antonio</td>\n",
              "    </tr>\n",
              "    <tr>\n",
              "      <th>7</th>\n",
              "      <td>Lucca</td>\n",
              "    </tr>\n",
              "    <tr>\n",
              "      <th>8</th>\n",
              "      <td>Pedro</td>\n",
              "    </tr>\n",
              "    <tr>\n",
              "      <th>9</th>\n",
              "      <td>Mariana</td>\n",
              "    </tr>\n",
              "    <tr>\n",
              "      <th>10</th>\n",
              "      <td>Mateus</td>\n",
              "    </tr>\n",
              "  </tbody>\n",
              "</table>\n",
              "</div>"
            ],
            "text/plain": [
              "       Names\n",
              "0    Baralho\n",
              "1    Andreis\n",
              "2      Paulo\n",
              "3   Fernanda\n",
              "4    Gabriel\n",
              "5   Vinicius\n",
              "6    Antonio\n",
              "7      Lucca\n",
              "8      Pedro\n",
              "9    Mariana\n",
              "10    Mateus"
            ]
          },
          "metadata": {
            "tags": []
          },
          "execution_count": 11
        }
      ]
    }
  ]
}