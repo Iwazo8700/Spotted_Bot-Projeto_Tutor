{
  "nbformat": 4,
  "nbformat_minor": 0,
  "metadata": {
    "kernelspec": {
      "display_name": "Python 3",
      "language": "python",
      "name": "python3"
    },
    "language_info": {
      "codemirror_mode": {
        "name": "ipython",
        "version": 3
      },
      "file_extension": ".py",
      "mimetype": "text/x-python",
      "name": "python",
      "nbconvert_exporter": "python",
      "pygments_lexer": "ipython3",
      "version": "3.7.4"
    },
    "colab": {
      "name": "Spotteds1.ipynb",
      "provenance": [],
      "collapsed_sections": []
    }
  },
  "cells": [
    {
      "cell_type": "code",
      "metadata": {
        "id": "e11ibL_LeFNV",
        "colab_type": "code",
        "colab": {}
      },
      "source": [
        "from requests import get\n",
        "from bs4 import BeautifulSoup"
      ],
      "execution_count": 0,
      "outputs": []
    },
    {
      "cell_type": "code",
      "metadata": {
        "id": "7dYmBBv3eFNp",
        "colab_type": "code",
        "outputId": "7865cce6-c0ef-4f6a-da15-76af6468bbe5",
        "colab": {
          "base_uri": "https://localhost:8080/",
          "height": 54
        }
      },
      "source": [
        "spotted_link = lambda i: \"https://spottedsunicamp.herokuapp.com/spotted/list_spotteds/?page=%d\"%i\n",
        "\n",
        "get_site = get(spotted_link(1))\n",
        "get_site.text\n"
      ],
      "execution_count": 2,
      "outputs": [
        {
          "output_type": "execute_result",
          "data": {
            "text/plain": [
              "'<!doctype html>\\n<html>\\n\\n<head>\\n\\n\\t<!-- Load project\\'s staticfiles -->\\n\\t\\n\\t\\n\\t<!-- facebook meta tags -->\\n\\t<meta property=\"fb:app_id\"          content=\"1204077889712577\" />\\n\\t<meta property=\"og:type\"            content=\"website\" />\\n\\t<meta property=\"og:url\"             content=\"https://spottedsunicamp.herokuapp.com/\" />\\n\\t<meta property=\"og:title\"           content=\"Spotted Unicamp\" />\\n\\t<meta property=\"og:image\"           content=\"https://spottedsunicamp.herokuapp.com/static/main/img/logo.2f24221441b7.png\" />\\n\\t<meta property=\"og:description\"    content=\"Because true love dies. Faça seu primeiro login para se registrar em nosso sistema e ser marcado em spotteds.\" />\\n\\n\\t<meta charset=\"utf-8\">\\n\\t<meta http-equiv=\"X-UA-Compatible\" content=\"IE=edge\">\\n\\t<meta name=\"viewport\" content=\"width=device-width, initial-scale=1.0, maximum-scale=1.0\">\\n\\t<meta name=\"description\" content=\"Because true love never dies\">\\n\\t<link rel=\"icon\" href=\"/static/main/img/favicon.7f26403ba2a0.png\">\\n\\n\\t<title>Spotted Unicamp</title>\\n\\n\\t<!-- jQuery -->\\n\\t<script\\n\\tsrc=\"https://code.jquery.com/jquery-3.1.1.min.js\"\\n\\tintegrity=\"sha256-hVVnYaiADRTO2PzUGmuLJr8BLUSjGIZsDYGmIJLv2b8=\"\\n\\tcrossorigin=\"anonymous\"></script>\\n\\t<script src=\"https://cdnjs.cloudflare.com/ajax/libs/jquery-cookie/1.4.1/jquery.cookie.min.js\"></script>\\n\\n\\t<!-- jQuery Cookie -->\\n\\t<script src=\"https://cdn.jsdelivr.net/npm/js-cookie@2/src/js.cookie.min.js\"></script>\\n\\n\\t<!-- Semantic-UI JS -->\\n\\t<script src=\"https://cdnjs.cloudflare.com/ajax/libs/semantic-ui/2.2.7/semantic.js\"></script>\\n\\n\\t<!-- Semantic-UI CSS -->\\n\\t<link rel=\"stylesheet\" href=\"https://cdnjs.cloudflare.com/ajax/libs/semantic-ui/2.2.7/semantic.css\">\\n\\n\\t<!-- Material and Awesome Fonts and Icons -->\\n\\t<link href=\"https://fonts.googleapis.com/icon?family=Material+Icons\" rel=\"stylesheet\">\\n\\t<link href=\"//maxcdn.bootstrapcdn.com/font-awesome/4.1.0/css/font-awesome.min.css\" rel=\"stylesheet\">\\n\\n\\t<!-- Fonts -->\\n\\t<link href=\"https://fonts.googleapis.com/css?family=Open+Sans|Roboto\" rel=\"stylesheet\">\\n\\n\\n\\t<!-- Local scripts -->\\n\\t<script type=\"text/javascript\" src=\"/static/main/js/sidebar.7b3f1714ee76.js\"></script>\\n\\t<script type=\"text/javascript\">\\n\\t\\tfunction OnFbLogin() {\\n\\t\\t\\twindow.location.href = \"/auth/facebook/login/\";\\n\\t\\t}\\n\\t</script>\\n\\n\\t<!-- Local stylesheets -->\\n\\t<link rel=\"stylesheet\" type=\"text/css\" href=\"/static/main/css/menu.c3914fea0748.css\">\\n\\t<link rel=\"stylesheet\" type=\"text/css\" href=\"/static/main/css/responsive.ade785cbc49e.css\">\\n\\t<link rel=\"stylesheet\" type=\"text/css\" href=\"/static/main/css/colored_text.41ace7449b0f.css\">\\n\\n\\n\\t<!-- Page scripts -->\\n\\t\\n\\n\\t<!-- Page style -->\\n\\t\\n\\n\\t<!-- Google Analytics -->\\n\\t\\n\\n<script type=\"text/javascript\">\\n    var ga_id = \"UA-91650414-1\";\\n</script>\\n<script type=\"text/javascript\" src=\"/static/main/js/GA.9cb279b3a722.js\"></script>\\n\\n\\n\\n\\t<!-- Google Adsense -->\\n\\t\\n\\n\\n\\n</head>\\n\\n<body data-gr-c-s-loaded=\"true\" class=\"pushable\">\\n\\t<!-- Facebook SDK for nice login buttons -->\\n\\t\\n<div id=\"fb-root\"></div>\\n<script>(function(d, s, id) {\\n    var js, fjs = d.getElementsByTagName(s)[0];\\n    if (d.getElementById(id)) return;\\n    js = d.createElement(s); js.id = id;\\n    js.src = \\'https://connect.facebook.net/pt_BR/sdk.js#xfbml=1&version=v3.0&appId=1204077889712577&autoLogAppEvents=1\\';\\n    fjs.parentNode.insertBefore(js, fjs);\\n}(document, \\'script\\', \\'facebook-jssdk\\'));</script>\\n\\n\\n\\n\\t<!-- Sidebar Menu -->\\n\\t<div class=\"ui vertical inverted sidebar menu left\">\\n\\t\\t\\n\\t\\t<a href=\"/#submit\" class=\"right item\">Envie Spotteds</a>\\n\\t\\t<a href=\"/spotted/list_spotteds/\" class=\"item\">Explorar Spotteds</a>\\n\\t\\t<a href=\"/search/\" class=\"item\">Pegar contato</a>\\n\\t\\t<a href=\"/#report\" class=\"item\">Reportar</a>\\n\\t\\t\\n\\t</div>\\n\\n\\n\\t<!-- Page Contents -->\\n\\t<div class=\"pusher\">\\n\\n\\t\\t<!-- Menu -->\\n\\t\\t<div class=\"ui large blue secondary menu\">\\n\\t\\t\\t<div class=\"ui container\">\\n\\t\\t\\t\\t<a href=\"/\" class=\"toc item\">\\n\\t\\t\\t\\t\\t<img src=\"/static/main/img/logo.2f24221441b7.png\">\\n\\t\\t\\t\\t</a>\\n\\t\\t\\t\\t<a class=\"toc men right item\">\\n\\t\\t\\t\\t\\t<i class=\"sidebar big icon\"></i>\\n\\t\\t\\t\\t</a>\\n\\t\\t\\t\\t<a href=\"/\" class=\"item\">\\n\\t\\t\\t\\t\\t<img src=\"/static/main/img/logo.2f24221441b7.png\">\\n\\t\\t\\t\\t</a>\\n\\t\\t\\t\\t\\n\\t\\t\\t\\t<a href=\"/#submit\" class=\"right item\">Envie Spotteds</a>\\n\\t\\t\\t\\t<a href=\"/spotted/list_spotteds/\" class=\"item\">Explorar Spotteds</a>\\n\\t\\t\\t\\t<a href=\"/search/\" class=\"item\">Pegar contato</a>\\n\\t\\t\\t\\t<a href=\"/#report\" class=\"item\">Reportar</a>\\n\\n\\t\\t\\t\\t\\n\\t\\t\\t</div>\\n\\t\\t</div>\\n\\n\\t\\t<!-- Messages -->\\n\\n\\t\\t<div id=\"cookie_nag\" class=\"ui inline cookie nag\">\\n\\t\\t\\t<span id=\"cookie_nag_text\" class=\"title\">\\n\\t\\t\\t</span>\\n\\t\\t\\t<i class=\"close icon\"></i>\\n\\t\\t</div>\\n\\t\\t<div id=\"notification_modal\" class=\"ui basic modal\">\\n\\t\\t\\t<div class=\"ui icon header\">\\n\\t\\t\\t\\t<i class=\"heart icon\"></i>\\n\\t\\t\\t\\t<span id=\"notification_modal_header\"></span>\\n\\t\\t\\t</div>\\n\\t\\t\\t<div class=\"content\" id=\"notification_modal_content\"></div>\\n\\t\\t</div>\\n\\t\\t\\n\\n\\t\\t\\n\\n\\t\\t<!-- Specific contents -->\\n\\n\\t\\t\\n\\n\\n\\n\\n\\n\\t\\t\\n\\n<div class=\"ui vertical stripe segment\">\\n    <div class=\"ui middle aligned stackable grid container\">\\n        <div class=\"row\">\\n            <div class=\"center aligned sixteen wide column\">\\n                <h1 class=\"ui header\">Explore spotteds!\\n                    <div class=\"sub header\">Procurando ideias? Quer saber detalhes sobre outros spotteds? Explore todo o nosso histórico!</div>\\n                </h1>\\n                <div class=\"ui search\">\\n                    <div class=\"ui icon input\">\\n                        <input id=\"search\" type=\"text\" placeholder=\"Pesquisar spotteds...\">\\n                        <i class=\"search icon\"></i>\\n                    </div>\\n                    <div class=\"results\"></div>\\n                </div>\\n            </div>\\n        </div>\\n    </div>\\n    <br>\\n    <br>\\n    <br>\\n\\n    \\n<style type=\"text/css\">\\n/* Mobile */\\n@media only screen and (max-width: 767px) {\\n    [class*=\"mobile hidden\"],\\n    [class*=\"tablet only\"]:not(.mobile),\\n    [class*=\"computer only\"]:not(.mobile),\\n    [class*=\"large screen only\"]:not(.mobile),\\n    [class*=\"widescreen only\"]:not(.mobile),\\n    [class*=\"or lower hidden\"] {\\n        display: none !important;\\n    }\\n}\\n\\n/* Tablet / iPad Portrait */\\n@media only screen and (min-width: 768px) and (max-width: 991px) {\\n    [class*=\"mobile only\"]:not(.tablet),\\n    [class*=\"tablet hidden\"],\\n    [class*=\"computer only\"]:not(.tablet),\\n    [class*=\"large screen only\"]:not(.tablet),\\n    [class*=\"widescreen only\"]:not(.tablet),\\n    [class*=\"or lower hidden\"]:not(.mobile) {\\n        display: none !important;\\n    }\\n}\\n\\n/* Computer / Desktop / iPad Landscape */\\n@media only screen and (min-width: 992px) and (max-width: 1199px) {\\n    [class*=\"mobile only\"]:not(.computer),\\n    [class*=\"tablet only\"]:not(.computer),\\n    [class*=\"computer hidden\"],\\n    [class*=\"large screen only\"]:not(.computer),\\n    [class*=\"widescreen only\"]:not(.computer),\\n    [class*=\"or lower hidden\"]:not(.tablet):not(.mobile) {\\n        display: none !important;\\n    }\\n}\\n\\n/* Large Monitor */\\n@media only screen and (min-width: 1200px) and (max-width: 1919px) {\\n    [class*=\"mobile only\"]:not([class*=\"large screen\"]),\\n    [class*=\"tablet only\"]:not([class*=\"large screen\"]),\\n    [class*=\"computer only\"]:not([class*=\"large screen\"]),\\n    [class*=\"large screen hidden\"],\\n    [class*=\"widescreen only\"]:not([class*=\"large screen\"]),\\n    [class*=\"or lower hidden\"]:not(.computer):not(.tablet):not(.mobile) {\\n        display: none !important;\\n    }\\n}\\n\\n/* Widescreen Monitor */\\n@media only screen and (min-width: 1920px) {\\n    [class*=\"mobile only\"]:not([class*=\"widescreen\"]),\\n    [class*=\"tablet only\"]:not([class*=\"widescreen\"]),\\n    [class*=\"computer only\"]:not([class*=\"widescreen\"]),\\n    [class*=\"large screen only\"]:not([class*=\"widescreen\"]),\\n    [class*=\"widescreen hidden\"],\\n    [class*=\"widescreen or lower hidden\"] {\\n        display: none !important;\\n    }\\n}\\n</style>\\n\\n\\n<script type=\"text/javascript\">\\n    function get_url_param(param) {\\n        query = window.location.search.substring(1);\\n        vars = query.split(\\'&\\');\\n        for (i in vars) {\\n            pair = vars[i].split(\\'=\\');\\n            if (decodeURIComponent(pair[0]) == param)\\n                return decodeURIComponent(pair[1]);\\n        }\\n        return \"\";\\n    }\\n    function go_to_page(page) {\\n        path = \"?page=\" + page;\\n        search = get_url_param(\"search\");\\n        if (search != \"\")\\n            path = path + \\'&search=\\' + search;\\n        document.location.href = path;\\n    }\\n    var input = document.getElementById(\"search\");\\n    input.value = get_url_param(\"search\");\\n    input.addEventListener(\"keyup\", function(event) {\\n        event.preventDefault();\\n        if (event.keyCode === 13) {\\n            document.location.href = \\'?search=\\' + document.getElementById(\"search\").value;\\n        }\\n    });\\n</script>\\n\\n\\n<div class=\"ui grid container\">\\n    <div class=\"ui centered sixteen wide tablet ten wide computer column\">\\n        \\n        <div class=\"ui divided items\">\\n            \\n            <div class=\"item\">\\n                <div class=\"content\">\\n                    <a href=\"/spotted/view_spotted/109971/\" class=\"header\">Spotted #109971</a>\\n                    <div class=\"meta\">\\n                        15 de Abril de 2020 às 11:58\\n                    </div>\\n                    <div class=\"description\">\\n                        <p>\\n                            Rafael Rienzo Lunetta te acho muito lindo. Beija meninos? Um bixo seu teria chances? Se não, fica aí o elogio haha\\n                        </p>\\n                    </div>\\n                    <div class=\"extra\">\\n                        \\n                        \\n                        <div class=\"ui label pink small\">\\n                            <i class=\"key icon\"></i>\\n                            Tem autor\\n                        </div>\\n                        \\n                        \\n                    </div>\\n                    <div class=\"mobile hidden\">\\n                        <div class=\"extra\">\\n                            <a href=\"/spotted/view_spotted/109971/\">\\n                                <div class=\"ui green left floated labeled icon button\">\\n                                    <i class=\"envelope open icon\"></i>\\n                                    Ver detalhes\\n                                </div>\\n                            </a>\\n                            <a href=\"https://facebook.com/183181388525237_1600374190139276\">\\n                                <div class=\"ui blue right floated labeled icon button\">\\n                                    <i class=\"facebook icon\"></i>\\n                                    Ver no Facebook\\n                                </div>\\n                            </a>\\n                        </div>\\n                    </div>\\n                    <div class=\"mobile only\">\\n                        <div class=\"extra\">\\n                            <a href=\"/spotted/view_spotted/109971/\">\\n                                <div class=\"ui green left floated button tiny\">\\n                                    Ver detalhes\\n                                </div>\\n                            </a>\\n                            <a href=\"https://facebook.com/183181388525237_1600374190139276\">\\n                                <div class=\"ui blue right floated button tiny\">\\n                                    Ver no Facebook\\n                                </div>\\n                            </a>\\n                        </div>\\n                    </div>\\n                </div>\\n            </div>\\n            \\n            <div class=\"item\">\\n                <div class=\"content\">\\n                    <a href=\"/spotted/view_spotted/109970/\" class=\"header\">Spotted #109970</a>\\n                    <div class=\"meta\">\\n                        14 de Abril de 2020 às 23:17\\n                    </div>\\n                    <div class=\"description\">\\n                        <p>\\n                            Carla Cestarioli, vc apareceu nas recomendações de amizades e eu percebi que tu é minha crush do bandejão haha. Está solteira? Pode chamar inbox?\\n                        </p>\\n                    </div>\\n                    <div class=\"extra\">\\n                        \\n                        \\n                        <div class=\"ui label pink small\">\\n                            <i class=\"key icon\"></i>\\n                            Tem autor\\n                        </div>\\n                        \\n                        \\n                    </div>\\n                    <div class=\"mobile hidden\">\\n                        <div class=\"extra\">\\n                            <a href=\"/spotted/view_spotted/109970/\">\\n                                <div class=\"ui green left floated labeled icon button\">\\n                                    <i class=\"envelope open icon\"></i>\\n                                    Ver detalhes\\n                                </div>\\n                            </a>\\n                            <a href=\"https://facebook.com/183181388525237_1599899036853458\">\\n                                <div class=\"ui blue right floated labeled icon button\">\\n                                    <i class=\"facebook icon\"></i>\\n                                    Ver no Facebook\\n                                </div>\\n                            </a>\\n                        </div>\\n                    </div>\\n                    <div class=\"mobile only\">\\n                        <div class=\"extra\">\\n                            <a href=\"/spotted/view_spotted/109970/\">\\n                                <div class=\"ui green left floated button tiny\">\\n                                    Ver detalhes\\n                                </div>\\n                            </a>\\n                            <a href=\"https://facebook.com/183181388525237_1599899036853458\">\\n                                <div class=\"ui blue right floated button tiny\">\\n                                    Ver no Facebook\\n                                </div>\\n                            </a>\\n                        </div>\\n                    </div>\\n                </div>\\n            </div>\\n            \\n            <div class=\"item\">\\n                <div class=\"content\">\\n                    <a href=\"/spotted/view_spotted/109969/\" class=\"header\">Spotted #109969</a>\\n                    <div class=\"meta\">\\n                        14 de Abril de 2020 às 20:12\\n                    </div>\\n                    <div class=\"description\">\\n                        <p>\\n                            Spider, você tá solteiro? Tenho interesse! M, 19.\\n                        </p>\\n                    </div>\\n                    <div class=\"extra\">\\n                        \\n                        \\n                        <div class=\"ui label pink small\">\\n                            <i class=\"key icon\"></i>\\n                            Tem autor\\n                        </div>\\n                        \\n                        \\n                    </div>\\n                    <div class=\"mobile hidden\">\\n                        <div class=\"extra\">\\n                            <a href=\"/spotted/view_spotted/109969/\">\\n                                <div class=\"ui green left floated labeled icon button\">\\n                                    <i class=\"envelope open icon\"></i>\\n                                    Ver detalhes\\n                                </div>\\n                            </a>\\n                            <a href=\"https://facebook.com/183181388525237_1599777820198913\">\\n                                <div class=\"ui blue right floated labeled icon button\">\\n                                    <i class=\"facebook icon\"></i>\\n                                    Ver no Facebook\\n                                </div>\\n                            </a>\\n                        </div>\\n                    </div>\\n                    <div class=\"mobile only\">\\n                        <div class=\"extra\">\\n                            <a href=\"/spotted/view_spotted/109969/\">\\n                                <div class=\"ui green left floated button tiny\">\\n                                    Ver detalhes\\n                                </div>\\n                            </a>\\n                            <a href=\"https://facebook.com/183181388525237_1599777820198913\">\\n                                <div class=\"ui blue right floated button tiny\">\\n                                    Ver no Facebook\\n                                </div>\\n                            </a>\\n                        </div>\\n                    </div>\\n                </div>\\n            </div>\\n            \\n            <div class=\"item\">\\n                <div class=\"content\">\\n                    <a href=\"/spotted/view_spotted/109967/\" class=\"header\">Spotted #109967</a>\\n                    <div class=\"meta\">\\n                        14 de Abril de 2020 às 19:45\\n                    </div>\\n                    <div class=\"description\">\\n                        <p>\\n                            Marilia Caliari, Deusa! Você é da Unicamp? Te vi na festa da física antes dessa pandemia doida ocorrer, mas não tive coragem de ir conversar... Durante esse tempo ,você apareceu 3 vezes nas minhas sugestões de amizade e resolvi tomar coragem agora... Olha, confesso que dei uma olhada no seu ...\\n                        </p>\\n                    </div>\\n                    <div class=\"extra\">\\n                        \\n                        \\n                        <div class=\"ui label pink small\">\\n                            <i class=\"key icon\"></i>\\n                            Tem autor\\n                        </div>\\n                        \\n                        \\n                        <div class=\"ui label red small\">\\n                            <i class=\"heart icon\"></i>\\n                            Tem crush\\n                        </div>\\n                        \\n                    </div>\\n                    <div class=\"mobile hidden\">\\n                        <div class=\"extra\">\\n                            <a href=\"/spotted/view_spotted/109967/\">\\n                                <div class=\"ui green left floated labeled icon button\">\\n                                    <i class=\"envelope open icon\"></i>\\n                                    Ver detalhes\\n                                </div>\\n                            </a>\\n                            <a href=\"https://facebook.com/183181388525237_1599761373533891\">\\n                                <div class=\"ui blue right floated labeled icon button\">\\n                                    <i class=\"facebook icon\"></i>\\n                                    Ver no Facebook\\n                                </div>\\n                            </a>\\n                        </div>\\n                    </div>\\n                    <div class=\"mobile only\">\\n                        <div class=\"extra\">\\n                            <a href=\"/spotted/view_spotted/109967/\">\\n                                <div class=\"ui green left floated button tiny\">\\n                                    Ver detalhes\\n                                </div>\\n                            </a>\\n                            <a href=\"https://facebook.com/183181388525237_1599761373533891\">\\n                                <div class=\"ui blue right floated button tiny\">\\n                                    Ver no Facebook\\n                                </div>\\n                            </a>\\n                        </div>\\n                    </div>\\n                </div>\\n            </div>\\n            \\n            <div class=\"item\">\\n                <div class=\"content\">\\n                    <a href=\"/spotted/view_spotted/109966/\" class=\"header\">Spotted #109966</a>\\n                    <div class=\"meta\">\\n                        13 de Abril de 2020 às 23:44\\n                    </div>\\n                    <div class=\"description\">\\n                        <p>\\n                            Milena Fonseca, não sei se te dou os parabéns por suportar o IFGW ou por ser linda desse jeito. Fica aqui o meu elogio pra alegrar a sua quarentena\\n                        </p>\\n                    </div>\\n                    <div class=\"extra\">\\n                        \\n                        \\n                        <div class=\"ui label pink small\">\\n                            <i class=\"key icon\"></i>\\n                            Tem autor\\n                        </div>\\n                        \\n                        \\n                    </div>\\n                    <div class=\"mobile hidden\">\\n                        <div class=\"extra\">\\n                            <a href=\"/spotted/view_spotted/109966/\">\\n                                <div class=\"ui green left floated labeled icon button\">\\n                                    <i class=\"envelope open icon\"></i>\\n                                    Ver detalhes\\n                                </div>\\n                            </a>\\n                            <a href=\"https://facebook.com/183181388525237_1598955223614506\">\\n                                <div class=\"ui blue right floated labeled icon button\">\\n                                    <i class=\"facebook icon\"></i>\\n                                    Ver no Facebook\\n                                </div>\\n                            </a>\\n                        </div>\\n                    </div>\\n                    <div class=\"mobile only\">\\n                        <div class=\"extra\">\\n                            <a href=\"/spotted/view_spotted/109966/\">\\n                                <div class=\"ui green left floated button tiny\">\\n                                    Ver detalhes\\n                                </div>\\n                            </a>\\n                            <a href=\"https://facebook.com/183181388525237_1598955223614506\">\\n                                <div class=\"ui blue right floated button tiny\">\\n                                    Ver no Facebook\\n                                </div>\\n                            </a>\\n                        </div>\\n                    </div>\\n                </div>\\n            </div>\\n            \\n            <div class=\"item\">\\n                <div class=\"content\">\\n                    <a href=\"/spotted/view_spotted/109965/\" class=\"header\">Spotted #109965</a>\\n                    <div class=\"meta\">\\n                        13 de Abril de 2020 às 23:20\\n                    </div>\\n                    <div class=\"description\">\\n                        <p>\\n                            Igor Zulian, sei que esse spotted aqui tá muito atrasado, mas queria ter te dado um bjo de presente de aniversário mas por incrível que pareça sou tímida pra isso, será que tenho chances depois da quarentena?\\n                        </p>\\n                    </div>\\n                    <div class=\"extra\">\\n                        \\n                        \\n                        <div class=\"ui label pink small\">\\n                            <i class=\"key icon\"></i>\\n                            Tem autor\\n                        </div>\\n                        \\n                        \\n                        <div class=\"ui label red small\">\\n                            <i class=\"heart icon\"></i>\\n                            Tem crush\\n                        </div>\\n                        \\n                    </div>\\n                    <div class=\"mobile hidden\">\\n                        <div class=\"extra\">\\n                            <a href=\"/spotted/view_spotted/109965/\">\\n                                <div class=\"ui green left floated labeled icon button\">\\n                                    <i class=\"envelope open icon\"></i>\\n                                    Ver detalhes\\n                                </div>\\n                            </a>\\n                            <a href=\"https://facebook.com/183181388525237_1598939803616048\">\\n                                <div class=\"ui blue right floated labeled icon button\">\\n                                    <i class=\"facebook icon\"></i>\\n                                    Ver no Facebook\\n                                </div>\\n                            </a>\\n                        </div>\\n                    </div>\\n                    <div class=\"mobile only\">\\n                        <div class=\"extra\">\\n                            <a href=\"/spotted/view_spotted/109965/\">\\n                                <div class=\"ui green left floated button tiny\">\\n                                    Ver detalhes\\n                                </div>\\n                            </a>\\n                            <a href=\"https://facebook.com/183181388525237_1598939803616048\">\\n                                <div class=\"ui blue right floated button tiny\">\\n                                    Ver no Facebook\\n                                </div>\\n                            </a>\\n                        </div>\\n                    </div>\\n                </div>\\n            </div>\\n            \\n            <div class=\"item\">\\n                <div class=\"content\">\\n                    <a href=\"/spotted/view_spotted/109964/\" class=\"header\">Spotted #109964</a>\\n                    <div class=\"meta\">\\n                        13 de Abril de 2020 às 01:24\\n                    </div>\\n                    <div class=\"description\">\\n                        <p>\\n                            Bianca dá med, tão linda e ainda vota certíssimo no BBB\\n                        </p>\\n                    </div>\\n                    <div class=\"extra\">\\n                        \\n                        \\n                        <div class=\"ui label pink small\">\\n                            <i class=\"key icon\"></i>\\n                            Tem autor\\n                        </div>\\n                        \\n                        \\n                        <div class=\"ui label red small\">\\n                            <i class=\"heart icon\"></i>\\n                            Tem crush\\n                        </div>\\n                        \\n                    </div>\\n                    <div class=\"mobile hidden\">\\n                        <div class=\"extra\">\\n                            <a href=\"/spotted/view_spotted/109964/\">\\n                                <div class=\"ui green left floated labeled icon button\">\\n                                    <i class=\"envelope open icon\"></i>\\n                                    Ver detalhes\\n                                </div>\\n                            </a>\\n                            <a href=\"https://facebook.com/183181388525237_1598126210364074\">\\n                                <div class=\"ui blue right floated labeled icon button\">\\n                                    <i class=\"facebook icon\"></i>\\n                                    Ver no Facebook\\n                                </div>\\n                            </a>\\n                        </div>\\n                    </div>\\n                    <div class=\"mobile only\">\\n                        <div class=\"extra\">\\n                            <a href=\"/spotted/view_spotted/109964/\">\\n                                <div class=\"ui green left floated button tiny\">\\n                                    Ver detalhes\\n                                </div>\\n                            </a>\\n                            <a href=\"https://facebook.com/183181388525237_1598126210364074\">\\n                                <div class=\"ui blue right floated button tiny\">\\n                                    Ver no Facebook\\n                                </div>\\n                            </a>\\n                        </div>\\n                    </div>\\n                </div>\\n            </div>\\n            \\n            <div class=\"item\">\\n                <div class=\"content\">\\n                    <a href=\"/spotted/view_spotted/109963/\" class=\"header\">Spotted #109963</a>\\n                    <div class=\"meta\">\\n                        13 de Abril de 2020 às 00:55\\n                    </div>\\n                    <div class=\"description\">\\n                        <p>\\n                            Fernando Rocha, história 020, beija meninos??\\n                        </p>\\n                    </div>\\n                    <div class=\"extra\">\\n                        \\n                        \\n                        <div class=\"ui label pink small\">\\n                            <i class=\"key icon\"></i>\\n                            Tem autor\\n                        </div>\\n                        \\n                        \\n                    </div>\\n                    <div class=\"mobile hidden\">\\n                        <div class=\"extra\">\\n                            <a href=\"/spotted/view_spotted/109963/\">\\n                                <div class=\"ui green left floated labeled icon button\">\\n                                    <i class=\"envelope open icon\"></i>\\n                                    Ver detalhes\\n                                </div>\\n                            </a>\\n                            <a href=\"https://facebook.com/183181388525237_1598105967032765\">\\n                                <div class=\"ui blue right floated labeled icon button\">\\n                                    <i class=\"facebook icon\"></i>\\n                                    Ver no Facebook\\n                                </div>\\n                            </a>\\n                        </div>\\n                    </div>\\n                    <div class=\"mobile only\">\\n                        <div class=\"extra\">\\n                            <a href=\"/spotted/view_spotted/109963/\">\\n                                <div class=\"ui green left floated button tiny\">\\n                                    Ver detalhes\\n                                </div>\\n                            </a>\\n                            <a href=\"https://facebook.com/183181388525237_1598105967032765\">\\n                                <div class=\"ui blue right floated button tiny\">\\n                                    Ver no Facebook\\n                                </div>\\n                            </a>\\n                        </div>\\n                    </div>\\n                </div>\\n            </div>\\n            \\n            <div class=\"item\">\\n                <div class=\"content\">\\n                    <a href=\"/spotted/view_spotted/109962/\" class=\"header\">Spotted #109962</a>\\n                    <div class=\"meta\">\\n                        13 de Abril de 2020 às 00:21\\n                    </div>\\n                    <div class=\"description\">\\n                        <p>\\n                            Érico que foi no churras a trois e tava com uma bata da engenharia Não esqueci do nosso beijo até hoje, será que rola remember??\\n                        </p>\\n                    </div>\\n                    <div class=\"extra\">\\n                        \\n                        \\n                        <div class=\"ui label pink small\">\\n                            <i class=\"key icon\"></i>\\n                            Tem autor\\n                        </div>\\n                        \\n                        \\n                    </div>\\n                    <div class=\"mobile hidden\">\\n                        <div class=\"extra\">\\n                            <a href=\"/spotted/view_spotted/109962/\">\\n                                <div class=\"ui green left floated labeled icon button\">\\n                                    <i class=\"envelope open icon\"></i>\\n                                    Ver detalhes\\n                                </div>\\n                            </a>\\n                            <a href=\"https://facebook.com/183181388525237_1598085777034784\">\\n                                <div class=\"ui blue right floated labeled icon button\">\\n                                    <i class=\"facebook icon\"></i>\\n                                    Ver no Facebook\\n                                </div>\\n                            </a>\\n                        </div>\\n                    </div>\\n                    <div class=\"mobile only\">\\n                        <div class=\"extra\">\\n                            <a href=\"/spotted/view_spotted/109962/\">\\n                                <div class=\"ui green left floated button tiny\">\\n                                    Ver detalhes\\n                                </div>\\n                            </a>\\n                            <a href=\"https://facebook.com/183181388525237_1598085777034784\">\\n                                <div class=\"ui blue right floated button tiny\">\\n                                    Ver no Facebook\\n                                </div>\\n                            </a>\\n                        </div>\\n                    </div>\\n                </div>\\n            </div>\\n            \\n            <div class=\"item\">\\n                <div class=\"content\">\\n                    <a href=\"/spotted/view_spotted/109961/\" class=\"header\">Spotted #109961</a>\\n                    <div class=\"meta\">\\n                        12 de Abril de 2020 às 09:52\\n                    </div>\\n                    <div class=\"description\">\\n                        <p>\\n                            Poxa, eu só queria que a quarentena acabasse logo para eu conhecer o Hugo Navarro da Comp e saber se ele beija meninos. Que sorriso lindo!\\n                        </p>\\n                    </div>\\n                    <div class=\"extra\">\\n                        \\n                        \\n                        <div class=\"ui label pink small\">\\n                            <i class=\"key icon\"></i>\\n                            Tem autor\\n                        </div>\\n                        \\n                        \\n                    </div>\\n                    <div class=\"mobile hidden\">\\n                        <div class=\"extra\">\\n                            <a href=\"/spotted/view_spotted/109961/\">\\n                                <div class=\"ui green left floated labeled icon button\">\\n                                    <i class=\"envelope open icon\"></i>\\n                                    Ver detalhes\\n                                </div>\\n                            </a>\\n                            <a href=\"https://facebook.com/183181388525237_1597465377096824\">\\n                                <div class=\"ui blue right floated labeled icon button\">\\n                                    <i class=\"facebook icon\"></i>\\n                                    Ver no Facebook\\n                                </div>\\n                            </a>\\n                        </div>\\n                    </div>\\n                    <div class=\"mobile only\">\\n                        <div class=\"extra\">\\n                            <a href=\"/spotted/view_spotted/109961/\">\\n                                <div class=\"ui green left floated button tiny\">\\n                                    Ver detalhes\\n                                </div>\\n                            </a>\\n                            <a href=\"https://facebook.com/183181388525237_1597465377096824\">\\n                                <div class=\"ui blue right floated button tiny\">\\n                                    Ver no Facebook\\n                                </div>\\n                            </a>\\n                        </div>\\n                    </div>\\n                </div>\\n            </div>\\n            \\n        </div>\\n        \\n        <div class=\"ui horizontal divider\">Página 1 de 5912</div>\\n        <div class=\"mobile hidden\">\\n            \\n            \\n            <a onclick=\"go_to_page(2)\">\\n                <button class=\"ui right floated right labeled icon button\">\\n                    <i class=\"right arrow icon\"></i>\\n                    Próxima página\\n                </button>\\n            </a>\\n            \\n        </div>\\n        <div class=\"mobile only\">\\n            \\n            \\n            <a onclick=\"go_to_page(2)\">\\n                <button class=\"ui right floated right button small\">\\n                    Próxima página\\n                </button>\\n            </a>\\n            \\n        </div>\\n        \\n    </div>\\n</div>\\n\\n</div>\\n\\n\\n\\t</div>\\n\\t<script type=\"text/javascript\">\\n\\t\\tvar csrf = \"TwESSAJBe5ESXaaMZ9SLoFBr2BgaH26fLlx2ZNlvYlp2GbsI9MtPM8ioQ2nAKKoK\";\\n\\t\\tvar get_nag_message_url = \"/get_nag/\";\\n\\t\\tvar update_nag_message_url = \"/update_nag/\";\\n\\t</script>\\n\\t<script type=\"text/javascript\" src=\"/static/main/js/news_notification.aa09a1c7d317.js\"></script>\\n\\t\\n</body>\\n</html>\\n'"
            ]
          },
          "metadata": {
            "tags": []
          },
          "execution_count": 2
        }
      ]
    },
    {
      "cell_type": "code",
      "metadata": {
        "id": "fhwnNk63eFN0",
        "colab_type": "code",
        "colab": {}
      },
      "source": [
        "soup = BeautifulSoup(get_site.text)\n",
        "l = list(map(str,soup.findAll(\"div\", {\"class\":\"description\"})))"
      ],
      "execution_count": 0,
      "outputs": []
    },
    {
      "cell_type": "code",
      "metadata": {
        "id": "8LBkkeddeFOD",
        "colab_type": "code",
        "colab": {}
      },
      "source": [
        "spotteds = []\n",
        "for i in l:\n",
        "    spotteds.append(i.replace(\"\"\"<div class=\"description\">\n",
        "<p>\"\"\",\"\").replace(\"</p>\",\"\").replace(\"</div>\",\"\").replace(\"\\t\",\"\").replace(\"\\n                            \",\"\").replace(\"\\n                        \\n\",\"\"))\n"
      ],
      "execution_count": 0,
      "outputs": []
    },
    {
      "cell_type": "code",
      "metadata": {
        "id": "HPw60XgGeFOU",
        "colab_type": "code",
        "outputId": "a58c6fbd-5276-47c2-d856-a4e77ba89587",
        "colab": {
          "base_uri": "https://localhost:8080/",
          "height": 207
        }
      },
      "source": [
        "spotteds"
      ],
      "execution_count": 5,
      "outputs": [
        {
          "output_type": "execute_result",
          "data": {
            "text/plain": [
              "['Rafael Rienzo Lunetta te acho muito lindo. Beija meninos? Um bixo seu teria chances? Se não, fica aí o elogio haha',\n",
              " 'Carla Cestarioli, vc apareceu nas recomendações de amizades e eu percebi que tu é minha crush do bandejão haha. Está solteira? Pode chamar inbox?',\n",
              " 'Spider, você tá solteiro? Tenho interesse! M, 19.',\n",
              " 'Marilia Caliari, Deusa! Você é da Unicamp? Te vi na festa da física antes dessa pandemia doida ocorrer, mas não tive coragem de ir conversar... Durante esse tempo ,você apareceu 3 vezes nas minhas sugestões de amizade e resolvi tomar coragem agora... Olha, confesso que dei uma olhada no seu ...',\n",
              " 'Milena Fonseca, não sei se te dou os parabéns por suportar o IFGW ou por ser linda desse jeito. Fica aqui o meu elogio pra alegrar a sua quarentena',\n",
              " 'Igor Zulian, sei que esse spotted aqui tá muito atrasado, mas queria ter te dado um bjo de presente de aniversário mas por incrível que pareça sou tímida pra isso, será que tenho chances depois da quarentena?',\n",
              " 'Bianca dá med, tão linda e ainda vota certíssimo no BBB',\n",
              " 'Fernando Rocha, história 020, beija meninos??',\n",
              " 'Érico que foi no churras a trois e tava com uma bata da engenharia Não esqueci do nosso beijo até hoje, será que rola remember??',\n",
              " 'Poxa, eu só queria que a quarentena acabasse logo para eu conhecer o Hugo Navarro da Comp e saber se ele beija meninos. Que sorriso lindo!']"
            ]
          },
          "metadata": {
            "tags": []
          },
          "execution_count": 5
        }
      ]
    },
    {
      "cell_type": "code",
      "metadata": {
        "id": "BZ5RyXU8rZWa",
        "colab_type": "code",
        "outputId": "d0c3377f-5e4d-4802-de26-5ffc657a2057",
        "colab": {
          "base_uri": "https://localhost:8080/",
          "height": 419
        }
      },
      "source": [
        "import pandas as pd\n",
        "\n",
        "spotteds = pd.DataFrame(columns=[\"Documentos\"])\n",
        "\n",
        "for i in range(1, 538):\n",
        "    get_site = get(spotted_link(i))\n",
        "    soup = BeautifulSoup(str(get_site.text))\n",
        "    l = list(map(str,soup.findAll(\"div\", {\"class\":\"description\"})))\n",
        "    for i in l:\n",
        "        spotteds = spotteds.append({\"Documentos\":i.replace(\"\"\"<div class=\"description\">\n",
        "<p>\"\"\",\"\").replace(\"</p>\",\"\").replace(\"</div>\",\"\").replace(\"\\t\",\"\").replace(\"\\n                            \",\"\").replace(\"\\n                        \\n\",\"\")}, ignore_index=True)\n",
        "spotteds"
      ],
      "execution_count": 6,
      "outputs": [
        {
          "output_type": "execute_result",
          "data": {
            "text/html": [
              "<div>\n",
              "<style scoped>\n",
              "    .dataframe tbody tr th:only-of-type {\n",
              "        vertical-align: middle;\n",
              "    }\n",
              "\n",
              "    .dataframe tbody tr th {\n",
              "        vertical-align: top;\n",
              "    }\n",
              "\n",
              "    .dataframe thead th {\n",
              "        text-align: right;\n",
              "    }\n",
              "</style>\n",
              "<table border=\"1\" class=\"dataframe\">\n",
              "  <thead>\n",
              "    <tr style=\"text-align: right;\">\n",
              "      <th></th>\n",
              "      <th>Documentos</th>\n",
              "    </tr>\n",
              "  </thead>\n",
              "  <tbody>\n",
              "    <tr>\n",
              "      <th>0</th>\n",
              "      <td>Rafael Rienzo Lunetta te acho muito lindo. Bei...</td>\n",
              "    </tr>\n",
              "    <tr>\n",
              "      <th>1</th>\n",
              "      <td>Carla Cestarioli, vc apareceu nas recomendaçõe...</td>\n",
              "    </tr>\n",
              "    <tr>\n",
              "      <th>2</th>\n",
              "      <td>Spider, você tá solteiro? Tenho interesse! M, 19.</td>\n",
              "    </tr>\n",
              "    <tr>\n",
              "      <th>3</th>\n",
              "      <td>Marilia Caliari, Deusa! Você é da Unicamp? Te ...</td>\n",
              "    </tr>\n",
              "    <tr>\n",
              "      <th>4</th>\n",
              "      <td>Milena Fonseca, não sei se te dou os parabéns ...</td>\n",
              "    </tr>\n",
              "    <tr>\n",
              "      <th>...</th>\n",
              "      <td>...</td>\n",
              "    </tr>\n",
              "    <tr>\n",
              "      <th>5365</th>\n",
              "      <td>No role da Babilônia vi um cara de olhos verde...</td>\n",
              "    </tr>\n",
              "    <tr>\n",
              "      <th>5366</th>\n",
              "      <td>Quinta passada vi um loirinho muito lindo no p...</td>\n",
              "    </tr>\n",
              "    <tr>\n",
              "      <th>5367</th>\n",
              "      <td>Graziela Santin mano, você é muito linda, é um...</td>\n",
              "    </tr>\n",
              "    <tr>\n",
              "      <th>5368</th>\n",
              "      <td>O sorriso da Ana Flávia Bonatto sempre me deix...</td>\n",
              "    </tr>\n",
              "    <tr>\n",
              "      <th>5369</th>\n",
              "      <td>Moço alto de cabelo escuro, barba, camiseta br...</td>\n",
              "    </tr>\n",
              "  </tbody>\n",
              "</table>\n",
              "<p>5370 rows × 1 columns</p>\n",
              "</div>"
            ],
            "text/plain": [
              "                                             Documentos\n",
              "0     Rafael Rienzo Lunetta te acho muito lindo. Bei...\n",
              "1     Carla Cestarioli, vc apareceu nas recomendaçõe...\n",
              "2     Spider, você tá solteiro? Tenho interesse! M, 19.\n",
              "3     Marilia Caliari, Deusa! Você é da Unicamp? Te ...\n",
              "4     Milena Fonseca, não sei se te dou os parabéns ...\n",
              "...                                                 ...\n",
              "5365  No role da Babilônia vi um cara de olhos verde...\n",
              "5366  Quinta passada vi um loirinho muito lindo no p...\n",
              "5367  Graziela Santin mano, você é muito linda, é um...\n",
              "5368  O sorriso da Ana Flávia Bonatto sempre me deix...\n",
              "5369  Moço alto de cabelo escuro, barba, camiseta br...\n",
              "\n",
              "[5370 rows x 1 columns]"
            ]
          },
          "metadata": {
            "tags": []
          },
          "execution_count": 6
        }
      ]
    },
    {
      "cell_type": "code",
      "metadata": {
        "id": "RL16JrXOxcNR",
        "colab_type": "code",
        "colab": {}
      },
      "source": [
        "f = open(\"Spotteds1.csv\", \"a+\")\n",
        "f.write(spotteds.to_csv(index=False))\n",
        "f.close()\n"
      ],
      "execution_count": 0,
      "outputs": []
    },
    {
      "cell_type": "code",
      "metadata": {
        "id": "czV-PaOF1HCL",
        "colab_type": "code",
        "outputId": "e53d329f-049c-4fc2-b236-dd21fe4b4a15",
        "colab": {
          "base_uri": "https://localhost:8080/",
          "height": 419
        }
      },
      "source": [
        "df = pd.read_csv(\"Spotteds1.csv\")\n",
        "df\n"
      ],
      "execution_count": 8,
      "outputs": [
        {
          "output_type": "execute_result",
          "data": {
            "text/html": [
              "<div>\n",
              "<style scoped>\n",
              "    .dataframe tbody tr th:only-of-type {\n",
              "        vertical-align: middle;\n",
              "    }\n",
              "\n",
              "    .dataframe tbody tr th {\n",
              "        vertical-align: top;\n",
              "    }\n",
              "\n",
              "    .dataframe thead th {\n",
              "        text-align: right;\n",
              "    }\n",
              "</style>\n",
              "<table border=\"1\" class=\"dataframe\">\n",
              "  <thead>\n",
              "    <tr style=\"text-align: right;\">\n",
              "      <th></th>\n",
              "      <th>Documentos</th>\n",
              "    </tr>\n",
              "  </thead>\n",
              "  <tbody>\n",
              "    <tr>\n",
              "      <th>0</th>\n",
              "      <td>Rafael Rienzo Lunetta te acho muito lindo. Bei...</td>\n",
              "    </tr>\n",
              "    <tr>\n",
              "      <th>1</th>\n",
              "      <td>Carla Cestarioli, vc apareceu nas recomendaçõe...</td>\n",
              "    </tr>\n",
              "    <tr>\n",
              "      <th>2</th>\n",
              "      <td>Spider, você tá solteiro? Tenho interesse! M, 19.</td>\n",
              "    </tr>\n",
              "    <tr>\n",
              "      <th>3</th>\n",
              "      <td>Marilia Caliari, Deusa! Você é da Unicamp? Te ...</td>\n",
              "    </tr>\n",
              "    <tr>\n",
              "      <th>4</th>\n",
              "      <td>Milena Fonseca, não sei se te dou os parabéns ...</td>\n",
              "    </tr>\n",
              "    <tr>\n",
              "      <th>...</th>\n",
              "      <td>...</td>\n",
              "    </tr>\n",
              "    <tr>\n",
              "      <th>5365</th>\n",
              "      <td>No role da Babilônia vi um cara de olhos verde...</td>\n",
              "    </tr>\n",
              "    <tr>\n",
              "      <th>5366</th>\n",
              "      <td>Quinta passada vi um loirinho muito lindo no p...</td>\n",
              "    </tr>\n",
              "    <tr>\n",
              "      <th>5367</th>\n",
              "      <td>Graziela Santin mano, você é muito linda, é um...</td>\n",
              "    </tr>\n",
              "    <tr>\n",
              "      <th>5368</th>\n",
              "      <td>O sorriso da Ana Flávia Bonatto sempre me deix...</td>\n",
              "    </tr>\n",
              "    <tr>\n",
              "      <th>5369</th>\n",
              "      <td>Moço alto de cabelo escuro, barba, camiseta br...</td>\n",
              "    </tr>\n",
              "  </tbody>\n",
              "</table>\n",
              "<p>5370 rows × 1 columns</p>\n",
              "</div>"
            ],
            "text/plain": [
              "                                             Documentos\n",
              "0     Rafael Rienzo Lunetta te acho muito lindo. Bei...\n",
              "1     Carla Cestarioli, vc apareceu nas recomendaçõe...\n",
              "2     Spider, você tá solteiro? Tenho interesse! M, 19.\n",
              "3     Marilia Caliari, Deusa! Você é da Unicamp? Te ...\n",
              "4     Milena Fonseca, não sei se te dou os parabéns ...\n",
              "...                                                 ...\n",
              "5365  No role da Babilônia vi um cara de olhos verde...\n",
              "5366  Quinta passada vi um loirinho muito lindo no p...\n",
              "5367  Graziela Santin mano, você é muito linda, é um...\n",
              "5368  O sorriso da Ana Flávia Bonatto sempre me deix...\n",
              "5369  Moço alto de cabelo escuro, barba, camiseta br...\n",
              "\n",
              "[5370 rows x 1 columns]"
            ]
          },
          "metadata": {
            "tags": []
          },
          "execution_count": 8
        }
      ]
    }
  ]
}